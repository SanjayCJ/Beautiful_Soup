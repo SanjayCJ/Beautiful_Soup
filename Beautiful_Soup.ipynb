{
  "nbformat": 4,
  "nbformat_minor": 0,
  "metadata": {
    "colab": {
      "name": "Beautiful Soup.ipynb",
      "provenance": [],
      "collapsed_sections": []
    },
    "kernelspec": {
      "name": "python3",
      "display_name": "Python 3"
    }
  },
  "cells": [
    {
      "cell_type": "markdown",
      "metadata": {
        "id": "9OL_7Ts1dwtB",
        "colab_type": "text"
      },
      "source": [
        "# **BEAUTIFULL SOUP**"
      ]
    },
    {
      "cell_type": "markdown",
      "metadata": {
        "id": "5-ACAjFLeBLI",
        "colab_type": "text"
      },
      "source": [
        "**To find the title tags from a given html document**"
      ]
    },
    {
      "cell_type": "code",
      "metadata": {
        "id": "JTPaLF1ddvPx",
        "colab_type": "code",
        "colab": {}
      },
      "source": [
        "from bs4 import BeautifulSoup"
      ],
      "execution_count": 0,
      "outputs": []
    },
    {
      "cell_type": "code",
      "metadata": {
        "id": "DzgJ0Tx0eWuZ",
        "colab_type": "code",
        "colab": {}
      },
      "source": [
        "html_doc = \"\"\"\n",
        "<html>\n",
        "<head>\n",
        "<meta http-equiv=\"Content-Type\" content=\"text/html;\n",
        "charset=iso-8859-1\">\n",
        "<title>An example of HTML page</title>\n",
        "</head>\n",
        "<body>\n",
        "<h2>This is an example HTML page</h2>\n",
        "<p>\n",
        "Lorem ipsum dolor sit amet, consectetur adipiscing elit. Nunc at nisi velit,\n",
        "aliquet iaculis est. Curabitur porttitor nisi vel lacus euismod egestas. In hac\n",
        "habitasse platea dictumst. In sagittis magna eu odio interdum mollis. Phasellus\n",
        "sagittis pulvinar facilisis. Donec vel odio volutpat tortor volutpat commodo.\n",
        "Donec vehicula vulputate sem, vel iaculis urna molestie eget. Sed pellentesque\n",
        "adipiscing tortor, at condimentum elit elementum sed. Mauris dignissim\n",
        "elementum nunc, non elementum felis condimentum eu. In in turpis quis erat\n",
        "imperdiet vulputate. Pellentesque mauris turpis, dignissim sed iaculis eu,\n",
        "euismod eget ipsum. Vivamus mollis adipiscing viverra. Morbi at sem eget nisl\n",
        "euismod porta.</p>\n",
        "<p><a href=\"https://www.w3resource.com/html/HTML-tutorials.php\">Learn HTML from\n",
        "w3resource.com</a></p>\n",
        "<p><a href=\"https://www.w3resource.com/css/CSS-tutorials.php\">Learn CSS from \n",
        "w3resource.com</a></p>\n",
        "</body>\n",
        "</html>\n",
        "\"\"\""
      ],
      "execution_count": 0,
      "outputs": []
    },
    {
      "cell_type": "code",
      "metadata": {
        "id": "in85XkerebD_",
        "colab_type": "code",
        "colab": {
          "base_uri": "https://localhost:8080/",
          "height": 52
        },
        "outputId": "1a01c4ed-3819-4200-f430-8ebe41346320"
      },
      "source": [
        "soup=BeautifulSoup(html_doc,'html.parser')\n",
        "print('Title of the document')\n",
        "print(soup.find(\"title\"))"
      ],
      "execution_count": 3,
      "outputs": [
        {
          "output_type": "stream",
          "text": [
            "Title of the document\n",
            "<title>An example of HTML page</title>\n"
          ],
          "name": "stdout"
        }
      ]
    },
    {
      "cell_type": "markdown",
      "metadata": {
        "id": "4RHOKF63e7jb",
        "colab_type": "text"
      },
      "source": [
        "**To retrieve all the paragraph tags from a given html document.**"
      ]
    },
    {
      "cell_type": "code",
      "metadata": {
        "id": "wP70yZPMerO3",
        "colab_type": "code",
        "colab": {}
      },
      "source": [
        "from bs4 import BeautifulSoup\n",
        "\n",
        "html_doc = \"\"\"\n",
        "<html>\n",
        "<head>\n",
        "<meta http-equiv=\"Content-Type\" content=\"text/html;\n",
        "charset=iso-8859-1\">\n",
        "<title>An example of HTML page</title>\n",
        "</head>\n",
        "<body>\n",
        "<h2>This is an example HTML page</h2>\n",
        "<p>\n",
        "Lorem ipsum dolor sit amet, consectetur adipiscing elit. Nunc at nisi velit,\n",
        "aliquet iaculis est. Curabitur porttitor nisi vel lacus euismod egestas. In hac\n",
        "habitasse platea dictumst. In sagittis magna eu odio interdum mollis. Phasellus\n",
        "sagittis pulvinar facilisis. Donec vel odio volutpat tortor volutpat commodo.\n",
        "Donec vehicula vulputate sem, vel iaculis urna molestie eget. Sed pellentesque\n",
        "adipiscing tortor, at condimentum elit elementum sed. Mauris dignissim\n",
        "elementum nunc, non elementum felis condimentum eu. In in turpis quis erat\n",
        "imperdiet vulputate. Pellentesque mauris turpis, dignissim sed iaculis eu,\n",
        "euismod eget ipsum. Vivamus mollis adipiscing viverra. Morbi at sem eget nisl\n",
        "euismod porta.</p>\n",
        "<p><a href=\"https://www.w3resource.com/html/HTML-tutorials.php\">Learn HTML from\n",
        "w3resource.com</a></p>\n",
        "<p><a href=\"https://www.w3resource.com/css/CSS-tutorials.php\">Learn CSS from \n",
        "w3resource.com</a></p>\n",
        "</body>\n",
        "</html>\n",
        "\"\"\""
      ],
      "execution_count": 0,
      "outputs": []
    },
    {
      "cell_type": "code",
      "metadata": {
        "id": "bYeEdaC_fX2T",
        "colab_type": "code",
        "colab": {
          "base_uri": "https://localhost:8080/",
          "height": 259
        },
        "outputId": "a440fcb1-01f8-4185-fba2-5308372eac43"
      },
      "source": [
        "soup=BeautifulSoup(html_doc,'html.parser')\n",
        "print('All paragragh tages:')\n",
        "print(soup.find_all(\"p\"))"
      ],
      "execution_count": 6,
      "outputs": [
        {
          "output_type": "stream",
          "text": [
            "All paragragh tages:\n",
            "[<p>\n",
            "Lorem ipsum dolor sit amet, consectetur adipiscing elit. Nunc at nisi velit,\n",
            "aliquet iaculis est. Curabitur porttitor nisi vel lacus euismod egestas. In hac\n",
            "habitasse platea dictumst. In sagittis magna eu odio interdum mollis. Phasellus\n",
            "sagittis pulvinar facilisis. Donec vel odio volutpat tortor volutpat commodo.\n",
            "Donec vehicula vulputate sem, vel iaculis urna molestie eget. Sed pellentesque\n",
            "adipiscing tortor, at condimentum elit elementum sed. Mauris dignissim\n",
            "elementum nunc, non elementum felis condimentum eu. In in turpis quis erat\n",
            "imperdiet vulputate. Pellentesque mauris turpis, dignissim sed iaculis eu,\n",
            "euismod eget ipsum. Vivamus mollis adipiscing viverra. Morbi at sem eget nisl\n",
            "euismod porta.</p>, <p><a href=\"https://www.w3resource.com/html/HTML-tutorials.php\">Learn HTML from\n",
            "w3resource.com</a></p>, <p><a href=\"https://www.w3resource.com/css/CSS-tutorials.php\">Learn CSS from \n",
            "w3resource.com</a></p>]\n"
          ],
          "name": "stdout"
        }
      ]
    },
    {
      "cell_type": "markdown",
      "metadata": {
        "id": "Nd4gBtJzf11_",
        "colab_type": "text"
      },
      "source": [
        "**To get the number of paragraph tags of a given html document.**"
      ]
    },
    {
      "cell_type": "code",
      "metadata": {
        "id": "5E2_9nbEfvg3",
        "colab_type": "code",
        "colab": {
          "base_uri": "https://localhost:8080/",
          "height": 52
        },
        "outputId": "591a1bb8-d72c-4de9-f12a-add6bdb9e96f"
      },
      "source": [
        "from bs4 import BeautifulSoup\n",
        "soup=BeautifulSoup(html_doc, 'html.parser')\n",
        "print(\"No of Paragraphs are:\")\n",
        "print(len(soup.find_all(\"p\")))"
      ],
      "execution_count": 9,
      "outputs": [
        {
          "output_type": "stream",
          "text": [
            "No of Paragraphs are:\n",
            "3\n"
          ],
          "name": "stdout"
        }
      ]
    },
    {
      "cell_type": "markdown",
      "metadata": {
        "id": "Esi5PYEBgi88",
        "colab_type": "text"
      },
      "source": [
        "**To extract the text in the first paragraph tag of a given html document.**"
      ]
    },
    {
      "cell_type": "code",
      "metadata": {
        "id": "wkjM-2-IgYMl",
        "colab_type": "code",
        "colab": {
          "base_uri": "https://localhost:8080/",
          "height": 224
        },
        "outputId": "65128bd1-a6c8-44a3-e163-ff3954ac0332"
      },
      "source": [
        "from bs4 import BeautifulSoup\n",
        "soup=BeautifulSoup(html_doc, 'html.parser')\n",
        "print('The text in First paragraph are:')\n",
        "print(soup.find_all('p')[0].text)"
      ],
      "execution_count": 10,
      "outputs": [
        {
          "output_type": "stream",
          "text": [
            "The text in First paragraph are:\n",
            "\n",
            "Lorem ipsum dolor sit amet, consectetur adipiscing elit. Nunc at nisi velit,\n",
            "aliquet iaculis est. Curabitur porttitor nisi vel lacus euismod egestas. In hac\n",
            "habitasse platea dictumst. In sagittis magna eu odio interdum mollis. Phasellus\n",
            "sagittis pulvinar facilisis. Donec vel odio volutpat tortor volutpat commodo.\n",
            "Donec vehicula vulputate sem, vel iaculis urna molestie eget. Sed pellentesque\n",
            "adipiscing tortor, at condimentum elit elementum sed. Mauris dignissim\n",
            "elementum nunc, non elementum felis condimentum eu. In in turpis quis erat\n",
            "imperdiet vulputate. Pellentesque mauris turpis, dignissim sed iaculis eu,\n",
            "euismod eget ipsum. Vivamus mollis adipiscing viverra. Morbi at sem eget nisl\n",
            "euismod porta.\n"
          ],
          "name": "stdout"
        }
      ]
    },
    {
      "cell_type": "markdown",
      "metadata": {
        "id": "e410lLgyhKwX",
        "colab_type": "text"
      },
      "source": [
        "**To find the length of the text of the first tag of a given html document.**"
      ]
    },
    {
      "cell_type": "code",
      "metadata": {
        "id": "Ac4aqpSfhIOP",
        "colab_type": "code",
        "colab": {
          "base_uri": "https://localhost:8080/",
          "height": 52
        },
        "outputId": "bda451af-3b93-493c-8229-589073eb4814"
      },
      "source": [
        "from bs4 import BeautifulSoup\n",
        "soup=BeautifulSoup(html_doc,'html.parser')\n",
        "print(\"The text in first h2 paragraph:\")\n",
        "print(len(soup.find('h2').text))"
      ],
      "execution_count": 12,
      "outputs": [
        {
          "output_type": "stream",
          "text": [
            "The text in first h2 paragraph:\n",
            "28\n"
          ],
          "name": "stdout"
        }
      ]
    },
    {
      "cell_type": "markdown",
      "metadata": {
        "id": "XaTe-X6Rh_Ko",
        "colab_type": "text"
      },
      "source": [
        "**To find the text of the first (<a tag of a given html text.**"
      ]
    },
    {
      "cell_type": "code",
      "metadata": {
        "id": "yLBczYJGh6LD",
        "colab_type": "code",
        "colab": {
          "base_uri": "https://localhost:8080/",
          "height": 69
        },
        "outputId": "0d3e53e7-b51f-479a-97a2-85459af98792"
      },
      "source": [
        "from bs4 import BeautifulSoup\n",
        "soup=BeautifulSoup(html_doc, 'html.parser')\n",
        "print(\"Text of the first <a> tag:\")\n",
        "print(soup.find('a').text)"
      ],
      "execution_count": 17,
      "outputs": [
        {
          "output_type": "stream",
          "text": [
            "Text of the first <a> tag:\n",
            "Learn HTML from\n",
            "w3resource.com\n"
          ],
          "name": "stdout"
        }
      ]
    },
    {
      "cell_type": "markdown",
      "metadata": {
        "id": "kfWEbwdPkLp9",
        "colab_type": "text"
      },
      "source": [
        "**To find the href of the first (<a tag of a given html document.**"
      ]
    },
    {
      "cell_type": "code",
      "metadata": {
        "id": "IkQYjGLWixLl",
        "colab_type": "code",
        "colab": {
          "base_uri": "https://localhost:8080/",
          "height": 52
        },
        "outputId": "4742dceb-2698-44ad-9677-88647f64e53b"
      },
      "source": [
        "from bs4 import BeautifulSoup\n",
        "soup = BeautifulSoup(html_doc, 'html.parser')\n",
        "print(\"Href of the first <a> tag:\")\n",
        "print(soup.find('a').attrs['href'])"
      ],
      "execution_count": 18,
      "outputs": [
        {
          "output_type": "stream",
          "text": [
            "Href of the first <a> tag:\n",
            "https://www.w3resource.com/html/HTML-tutorials.php\n"
          ],
          "name": "stdout"
        }
      ]
    },
    {
      "cell_type": "markdown",
      "metadata": {
        "id": "SbFLNwruk1kG",
        "colab_type": "text"
      },
      "source": [
        "To extract all the URLs from the webpage python.org that are nested within (<li tags from "
      ]
    },
    {
      "cell_type": "code",
      "metadata": {
        "id": "OXfSP4i9kzHF",
        "colab_type": "code",
        "colab": {
          "base_uri": "https://localhost:8080/",
          "height": 54
        },
        "outputId": "cd78fbed-0f8c-43fa-b0f3-d341a6fd371a"
      },
      "source": [
        "import requests\n",
        "from bs4 import BeautifulSoup\n",
        "url='https://www.python.org/'\n",
        "reqs= requests.get(url)\n",
        "soup=BeautifulSoup(reqs.text, 'lxml')\n",
        "\n",
        "urls=[]\n",
        "for h in soup.find_all('li'):\n",
        "  a = h.find('a')\n",
        "  urls.append(a.attrs['href'])\n",
        "print(urls)"
      ],
      "execution_count": 21,
      "outputs": [
        {
          "output_type": "stream",
          "text": [
            "['/', '/psf-landing/', 'https://docs.python.org', 'https://pypi.python.org/', '/jobs/', '/community/', '#', 'javascript:;', 'javascript:;', 'javascript:;', '#', 'https://www.facebook.com/pythonlang?fref=ts', 'https://twitter.com/ThePSF', '/community/irc/', '/about/', '/about/apps/', '/about/quotes/', '/about/gettingstarted/', '/about/help/', 'http://brochure.getpython.info/', '/downloads/', '/downloads/', '/downloads/source/', '/downloads/windows/', '/downloads/mac-osx/', '/download/other/', 'https://docs.python.org/3/license.html', '/download/alternatives', '/doc/', '/doc/', '/doc/av', 'https://wiki.python.org/moin/BeginnersGuide', 'https://devguide.python.org/', 'https://docs.python.org/faq/', 'http://wiki.python.org/moin/Languages', 'http://python.org/dev/peps/', 'https://wiki.python.org/moin/PythonBooks', '/doc/essays/', '/community/', '/community/survey', '/community/diversity/', '/community/lists/', '/community/irc/', '/community/forums/', '/psf/annual-report/2020/', '/community/workshops/', '/community/sigs/', '/community/logos/', 'https://wiki.python.org/moin/', '/community/merchandise/', '/community/awards', '/psf/conduct/', '/success-stories/', '/success-stories/category/arts/', '/success-stories/category/business/', '/success-stories/category/education/', '/success-stories/category/engineering/', '/success-stories/category/government/', '/success-stories/category/scientific/', '/success-stories/category/software-development/', '/blogs/', '/blogs/', '/psf/newsletter/', 'http://planetpython.org/', 'http://pyfound.blogspot.com/', 'http://pycon.blogspot.com/', '/events/', '/events/python-events', '/events/python-user-group/', '/events/python-events/past/', '/events/python-user-group/past/', 'https://wiki.python.org/moin/PythonEventsCalendar#Submitting_an_Event', '/shell/', '//docs.python.org/3/tutorial/controlflow.html#defining-functions', '//docs.python.org/3/tutorial/introduction.html#lists', 'http://docs.python.org/3/tutorial/introduction.html#using-python-as-a-calculator', '//docs.python.org/3/tutorial/', '//docs.python.org/3/tutorial/controlflow.html', 'http://feedproxy.google.com/~r/PythonSoftwareFoundationNews/~3/ssTeWC39RJ0/cpython-on-mobile-platforms.html', 'http://feedproxy.google.com/~r/PythonSoftwareFoundationNews/~3/w3c38YPwC3A/core-workflow-updates-python-language.html', 'http://feedproxy.google.com/~r/PythonSoftwareFoundationNews/~3/lYfT8OsYyaQ/python-developers-survey-2019-results.html', 'http://feedproxy.google.com/~r/PythonSoftwareFoundationNews/~3/iroQCLPcKE0/pythons-migration-to-github-request-for.html', 'http://feedproxy.google.com/~r/PythonSoftwareFoundationNews/~3/gAakc53O1so/property-based-testing-for-python.html', '/events/python-events/971/', '/events/python-user-group/956/', '/events/python-events/970/', '/events/python-events/948/', '/events/python-events/895/', 'http://www.djangoproject.com/', 'http://wiki.python.org/moin/TkInter', 'http://www.scipy.org', 'http://buildbot.net/', 'http://www.ansible.com', '/about/', '/about/apps/', '/about/quotes/', '/about/gettingstarted/', '/about/help/', 'http://brochure.getpython.info/', '/downloads/', '/downloads/', '/downloads/source/', '/downloads/windows/', '/downloads/mac-osx/', '/download/other/', 'https://docs.python.org/3/license.html', '/download/alternatives', '/doc/', '/doc/', '/doc/av', 'https://wiki.python.org/moin/BeginnersGuide', 'https://devguide.python.org/', 'https://docs.python.org/faq/', 'http://wiki.python.org/moin/Languages', 'http://python.org/dev/peps/', 'https://wiki.python.org/moin/PythonBooks', '/doc/essays/', '/community/', '/community/survey', '/community/diversity/', '/community/lists/', '/community/irc/', '/community/forums/', '/psf/annual-report/2020/', '/community/workshops/', '/community/sigs/', '/community/logos/', 'https://wiki.python.org/moin/', '/community/merchandise/', '/community/awards', '/psf/conduct/', '/success-stories/', '/success-stories/category/arts/', '/success-stories/category/business/', '/success-stories/category/education/', '/success-stories/category/engineering/', '/success-stories/category/government/', '/success-stories/category/scientific/', '/success-stories/category/software-development/', '/blogs/', '/blogs/', '/psf/newsletter/', 'http://planetpython.org/', 'http://pyfound.blogspot.com/', 'http://pycon.blogspot.com/', '/events/', '/events/python-events', '/events/python-user-group/', '/events/python-events/past/', '/events/python-user-group/past/', 'https://wiki.python.org/moin/PythonEventsCalendar#Submitting_an_Event', '/dev/', 'https://devguide.python.org/', 'https://bugs.python.org/', 'https://mail.python.org/mailman/listinfo/python-dev', '/dev/core-mentorship/', '/dev/security/', '/about/help/', '/community/diversity/', 'https://github.com/python/pythondotorg/issues', 'https://status.python.org/']\n"
          ],
          "name": "stdout"
        }
      ]
    },
    {
      "cell_type": "markdown",
      "metadata": {
        "id": "_uQJ2hXtmMkH",
        "colab_type": "text"
      },
      "source": [
        "**To find all the h2 tags and list the first four from the webpage python.org.**"
      ]
    },
    {
      "cell_type": "code",
      "metadata": {
        "id": "91WX7mS8lDzA",
        "colab_type": "code",
        "colab": {
          "base_uri": "https://localhost:8080/",
          "height": 72
        },
        "outputId": "20343e7c-7995-488a-e635-504f52d1603c"
      },
      "source": [
        "import requests\n",
        "from bs4 import BeautifulSoup\n",
        "url= 'https://www.python.org/'\n",
        "reqs=requests.get(url)\n",
        "soup=BeautifulSoup(reqs.text,'lxml')\n",
        "print(\"First four h2 tags from the webpage python.org.:\")\n",
        "print(soup.find_all('h2')[0:4])"
      ],
      "execution_count": 24,
      "outputs": [
        {
          "output_type": "stream",
          "text": [
            "First four h2 tags from the webpage python.org.:\n",
            "[<h2 class=\"widget-title\"><span aria-hidden=\"true\" class=\"icon-get-started\"></span>Get Started</h2>, <h2 class=\"widget-title\"><span aria-hidden=\"true\" class=\"icon-download\"></span>Download</h2>, <h2 class=\"widget-title\"><span aria-hidden=\"true\" class=\"icon-documentation\"></span>Docs</h2>, <h2 class=\"widget-title\"><span aria-hidden=\"true\" class=\"icon-jobs\"></span>Jobs</h2>]\n"
          ],
          "name": "stdout"
        }
      ]
    },
    {
      "cell_type": "markdown",
      "metadata": {
        "id": "9U0EKfcJnGGJ",
        "colab_type": "text"
      },
      "source": [
        "**To find all the link tags and list the first ten from the webpage python.org.**"
      ]
    },
    {
      "cell_type": "code",
      "metadata": {
        "id": "-skVaVmQm0T9",
        "colab_type": "code",
        "colab": {
          "base_uri": "https://localhost:8080/",
          "height": 141
        },
        "outputId": "b6e8ab51-8cc7-4a2d-e0aa-d799e21959e1"
      },
      "source": [
        "import requests\n",
        "from bs4 import BeautifulSoup\n",
        "url='https://www.python.org/'\n",
        "reqs=requests.get(url)\n",
        "Soup=BeautifulSoup(reqs.text,'lxml')\n",
        "print('First four h2 tags from the webpage python.org.:')\n",
        "print(soup.find_all('a')[0:10])"
      ],
      "execution_count": 27,
      "outputs": [
        {
          "output_type": "stream",
          "text": [
            "First four h2 tags from the webpage python.org.:\n",
            "[<a href=\"#content\" title=\"Skip to content\">Skip to content</a>, <a aria-hidden=\"true\" class=\"jump-link\" href=\"#python-network\" id=\"close-python-network\">\n",
            "<span aria-hidden=\"true\" class=\"icon-arrow-down\"><span>▼</span></span> Close\n",
            "                </a>, <a class=\"current_item selectedcurrent_branch selected\" href=\"/\" title=\"The Python Programming Language\">Python</a>, <a href=\"/psf-landing/\" title=\"The Python Software Foundation\">PSF</a>, <a href=\"https://docs.python.org\" title=\"Python Documentation\">Docs</a>, <a href=\"https://pypi.python.org/\" title=\"Python Package Index\">PyPI</a>, <a href=\"/jobs/\" title=\"Python Job Board\">Jobs</a>, <a href=\"/community/\" title=\"Python Community\">Community</a>, <a aria-hidden=\"true\" class=\"jump-link\" href=\"#top\" id=\"python-network\">\n",
            "<span aria-hidden=\"true\" class=\"icon-arrow-up\"><span>▲</span></span> The Python Network\n",
            "                </a>, <a href=\"/\"><img alt=\"python™\" class=\"python-logo\" src=\"/static/img/python-logo.png\"/></a>]\n"
          ],
          "name": "stdout"
        }
      ]
    },
    {
      "cell_type": "markdown",
      "metadata": {
        "id": "HqLqrsdFpo0d",
        "colab_type": "text"
      },
      "source": [
        "**To a list of all the h1, h2, h3 tags from the webpage python.org.**"
      ]
    },
    {
      "cell_type": "code",
      "metadata": {
        "id": "a9qC0SGKnuhA",
        "colab_type": "code",
        "colab": {
          "base_uri": "https://localhost:8080/",
          "height": 328
        },
        "outputId": "c28b2ee4-f1e1-49c2-ba53-92c550cd7077"
      },
      "source": [
        "import requests\n",
        "from bs4 import BeautifulSoup\n",
        "url='https://www.python.org/'\n",
        "reqs=requests.get(url)\n",
        "soup=BeautifulSoup(reqs.text,'lxml')\n",
        "print(\"List of all the h1,h2,h3 :\")\n",
        "for heading in soup.find_all(['h1','h2','h3']):\n",
        "  print(heading.name +' '+heading.text.strip())\n"
      ],
      "execution_count": 31,
      "outputs": [
        {
          "output_type": "stream",
          "text": [
            "List of all the h1,h2,h3 :\n",
            "h1 \n",
            "h1 Functions Defined\n",
            "h1 Compound Data Types\n",
            "h1 Intuitive Interpretation\n",
            "h1 Quick & Easy to Learn\n",
            "h1 All the Flow You’d Expect\n",
            "h2 Get Started\n",
            "h2 Download\n",
            "h2 Docs\n",
            "h2 Jobs\n",
            "h2 Latest News\n",
            "h2 Upcoming Events\n",
            "h2 Success Stories\n",
            "h2 Use Python for…\n",
            "h2 >>> Python Enhancement Proposals (PEPs): The future of Python is discussed here.\n",
            " RSS\n",
            "h2 >>> Python Software Foundation\n"
          ],
          "name": "stdout"
        }
      ]
    },
    {
      "cell_type": "markdown",
      "metadata": {
        "id": "xePAul4drE4w",
        "colab_type": "text"
      },
      "source": [
        "**To extract all the text from a given web page.**"
      ]
    },
    {
      "cell_type": "code",
      "metadata": {
        "id": "1GIxlHptrgKW",
        "colab_type": "code",
        "colab": {
          "base_uri": "https://localhost:8080/",
          "height": 1000
        },
        "outputId": "0c84d217-2550-421f-b6c4-2f2f2a11ca6a"
      },
      "source": [
        "import requests\n",
        "from bs4 import BeautifulSoup\n",
        "url='https://www.python.org/'\n",
        "reqs= requests.get(url)\n",
        "soup = BeautifulSoup(reqs.text,'lxml')\n",
        "print('The text in Web Page:')\n",
        "print(soup.get_text())"
      ],
      "execution_count": 33,
      "outputs": [
        {
          "output_type": "stream",
          "text": [
            "The text in Web Page:\n",
            " \n",
            "\n",
            "\n",
            "\n",
            "\n",
            "\n",
            "\n",
            "\n",
            "\n",
            "\n",
            "\n",
            "\n",
            "\n",
            "\n",
            "\n",
            "\n",
            "\n",
            "\n",
            "\n",
            "\n",
            "\n",
            "\n",
            "\n",
            "\n",
            "\n",
            "\n",
            "\n",
            "\n",
            "Welcome to Python.org\n",
            "\n",
            "\n",
            "\n",
            "\n",
            "\n",
            "\n",
            "\n",
            "\n",
            "\n",
            "\n",
            "\n",
            "\n",
            "\n",
            "\n",
            "\n",
            "     {\n",
            "       \"@context\": \"https://schema.org\",\n",
            "       \"@type\": \"WebSite\",\n",
            "       \"url\": \"https://www.python.org/\",\n",
            "       \"potentialAction\": {\n",
            "         \"@type\": \"SearchAction\",\n",
            "         \"target\": \"https://www.python.org/search/?q={search_term_string}\",\n",
            "         \"query-input\": \"required name=search_term_string\"\n",
            "       }\n",
            "     }\n",
            "    \n",
            "\n",
            "    var _gaq = _gaq || [];\n",
            "    _gaq.push(['_setAccount', 'UA-39055973-1']);\n",
            "    _gaq.push(['_trackPageview']);\n",
            "\n",
            "    (function() {\n",
            "        var ga = document.createElement('script'); ga.type = 'text/javascript'; ga.async = true;\n",
            "        ga.src = ('https:' == document.location.protocol ? 'https://ssl' : 'http://www') + '.google-analytics.com/ga.js';\n",
            "        var s = document.getElementsByTagName('script')[0]; s.parentNode.insertBefore(ga, s);\n",
            "    })();\n",
            "    \n",
            "\n",
            "\n",
            "\n",
            "\n",
            "Notice: While Javascript is not essential for this website, your interaction with the content will be limited. Please turn Javascript on for the full experience. \n",
            "\n",
            "\n",
            "\n",
            "\n",
            "\n",
            "\n",
            "Skip to content\n",
            "\n",
            "\n",
            "▼ Close\n",
            "                \n",
            "\n",
            "\n",
            "Python\n",
            "\n",
            "\n",
            "PSF\n",
            "\n",
            "\n",
            "Docs\n",
            "\n",
            "\n",
            "PyPI\n",
            "\n",
            "\n",
            "Jobs\n",
            "\n",
            "\n",
            "Community\n",
            "\n",
            "\n",
            "\n",
            "▲ The Python Network\n",
            "                \n",
            "\n",
            "\n",
            "\n",
            "\n",
            "\n",
            "\n",
            "\n",
            "\n",
            "\n",
            "Donate\n",
            "\n",
            "≡ Menu\n",
            "\n",
            "\n",
            "Search This Site\n",
            "\n",
            "\n",
            "                                    GO\n",
            "                                \n",
            "\n",
            "\n",
            "\n",
            "\n",
            "\n",
            "A A\n",
            "\n",
            "Smaller\n",
            "Larger\n",
            "Reset\n",
            "\n",
            "\n",
            "\n",
            "\n",
            "\n",
            "\n",
            "Socialize\n",
            "\n",
            "Facebook\n",
            "Twitter\n",
            "Chat on IRC\n",
            "\n",
            "\n",
            "\n",
            "\n",
            "\n",
            "\n",
            "\n",
            "\n",
            "\n",
            "\n",
            "About\n",
            "\n",
            "Applications\n",
            "Quotes\n",
            "Getting Started\n",
            "Help\n",
            "Python Brochure\n",
            "\n",
            "\n",
            "\n",
            "Downloads\n",
            "\n",
            "All releases\n",
            "Source code\n",
            "Windows\n",
            "Mac OS X\n",
            "Other Platforms\n",
            "License\n",
            "Alternative Implementations\n",
            "\n",
            "\n",
            "\n",
            "Documentation\n",
            "\n",
            "Docs\n",
            "Audio/Visual Talks\n",
            "Beginner's Guide\n",
            "Developer's Guide\n",
            "FAQ\n",
            "Non-English Docs\n",
            "PEP Index\n",
            "Python Books\n",
            "Python Essays\n",
            "\n",
            "\n",
            "\n",
            "Community\n",
            "\n",
            "Community Survey\n",
            "Diversity\n",
            "Mailing Lists\n",
            "IRC\n",
            "Forums\n",
            "PSF Annual Impact Report\n",
            "Python Conferences\n",
            "Special Interest Groups\n",
            "Python Logo\n",
            "Python Wiki\n",
            "Merchandise\n",
            "Community Awards\n",
            "Code of Conduct\n",
            "\n",
            "\n",
            "\n",
            "Success Stories\n",
            "\n",
            "Arts\n",
            "Business\n",
            "Education\n",
            "Engineering\n",
            "Government\n",
            "Scientific\n",
            "Software Development\n",
            "\n",
            "\n",
            "\n",
            "News\n",
            "\n",
            "Python News\n",
            "PSF Newsletter\n",
            "Community News\n",
            "PSF News\n",
            "PyCon News\n",
            "\n",
            "\n",
            "\n",
            "Events\n",
            "\n",
            "Python Events\n",
            "User Group Events\n",
            "Python Events Archive\n",
            "User Group Events Archive\n",
            "Submit an Event\n",
            "\n",
            "\n",
            "\n",
            "\n",
            " \n",
            "\n",
            "\n",
            "\n",
            ">_\n",
            "                        Launch Interactive Shell\n",
            "\n",
            "\n",
            "\n",
            "\n",
            "\n",
            "# Python 3: Fibonacci series up to n\r\n",
            ">>> def fib(n):\r\n",
            ">>>     a, b = 0, 1\r\n",
            ">>>     while a < n:\r\n",
            ">>>         print(a, end=' ')\r\n",
            ">>>         a, b = b, a+b\r\n",
            ">>>     print()\r\n",
            ">>> fib(1000)\r\n",
            "0 1 1 2 3 5 8 13 21 34 55 89 144 233 377 610 987\n",
            "Functions Defined\n",
            "The core of extensible programming is defining functions. Python allows mandatory and optional arguments, keyword arguments, and even arbitrary argument lists. More about defining functions in Python 3\n",
            "\n",
            "\n",
            "# Python 3: List comprehensions\r\n",
            ">>> fruits = ['Banana', 'Apple', 'Lime']\r\n",
            ">>> loud_fruits = [fruit.upper() for fruit in fruits]\r\n",
            ">>> print(loud_fruits)\r\n",
            "['BANANA', 'APPLE', 'LIME']\r\n",
            "\r\n",
            "# List and the enumerate function\r\n",
            ">>> list(enumerate(fruits))\r\n",
            "[(0, 'Banana'), (1, 'Apple'), (2, 'Lime')]\n",
            "Compound Data Types\n",
            "Lists (known as arrays in other languages) are one of the compound data types that Python understands. Lists can be indexed, sliced and manipulated with other built-in functions. More about lists in Python 3\n",
            "\n",
            "\n",
            "# Python 3: Simple arithmetic\r\n",
            ">>> 1 / 2\r\n",
            "0.5\r\n",
            ">>> 2 ** 3\r\n",
            "8\r\n",
            ">>> 17 / 3  # classic division returns a float\r\n",
            "5.666666666666667\r\n",
            ">>> 17 // 3  # floor division\r\n",
            "5\n",
            "Intuitive Interpretation\n",
            "Calculations are simple with Python, and expression syntax is straightforward: the operators +, -, * and / work as expected; parentheses () can be used for grouping. More about simple math functions in Python 3.\n",
            "\n",
            "\n",
            "# Python 3: Simple output (with Unicode)\r\n",
            ">>> print(\"Hello, I'm Python!\")\r\n",
            "Hello, I'm Python!\r\n",
            "\r\n",
            "# Input, assignment\r\n",
            ">>> name = input('What is your name?\\n')\r\n",
            ">>> print('Hi, %s.' % name)\r\n",
            "What is your name?\r\n",
            "Python\r\n",
            "Hi, Python.\n",
            "Quick & Easy to Learn\n",
            "Experienced programmers in any other language can pick up Python very quickly, and beginners find the clean syntax and indentation structure easy to learn. Whet your appetite with our Python 3 overview.\n",
            "\n",
            "\n",
            "\n",
            "# For loop on a list\r\n",
            ">>> numbers = [2, 4, 6, 8]\r\n",
            ">>> product = 1\r\n",
            ">>> for number in numbers:\r\n",
            "...    product = product * number\r\n",
            "... \r\n",
            ">>> print('The product is:', product)\r\n",
            "The product is: 384\n",
            "All the Flow You’d Expect\n",
            "Python knows the usual control flow statements that other languages speak — if, for, while and range — with some of its own twists, of course. More control flow tools in Python 3\n",
            "\n",
            "\n",
            "\n",
            "\n",
            "\n",
            "Python is a programming language that lets you work quickly and integrate systems more effectively. Learn More\n",
            "\n",
            "\n",
            "\n",
            "\n",
            "\n",
            "\n",
            "\n",
            "\n",
            "\n",
            "Get Started\n",
            "Whether you're new to programming or an experienced developer, it's easy to learn and use Python.\n",
            "Start with our Beginner’s Guide\n",
            "\n",
            "\n",
            "Download\n",
            "Python source code and installers are available for download for all versions!\n",
            "Latest: Python 3.8.2\n",
            "\n",
            "\n",
            "Docs\n",
            "Documentation for Python's standard library, along with tutorials and guides, are available online.\n",
            "docs.python.org\n",
            "\n",
            "\n",
            "Jobs\n",
            "Looking for work or have a Python related position that you're trying to hire for? Our relaunched community-run job board is the place to go.\n",
            "jobs.python.org\n",
            "\n",
            "\n",
            "\n",
            "\n",
            "\n",
            "Latest News\n",
            "More\n",
            "\n",
            "\n",
            "2020-05-10\n",
            "CPython on Mobile platforms - Python Language Summit 2020\n",
            "\n",
            "2020-05-07\n",
            "Core Workflow updates - Python Language Summit 2020\n",
            "\n",
            "2020-05-05\n",
            "Python Developers Survey 2019 Results\n",
            "\n",
            "2020-05-04\n",
            "Python’s migration to GitHub - Request for Project Manager Resumes\n",
            "\n",
            "2020-05-03\n",
            "Property-Based Testing for Python builtins and the standard library - Python Language Summit 2020\n",
            "\n",
            "\n",
            "\n",
            "\n",
            "\n",
            "Upcoming Events\n",
            "More\n",
            "\n",
            "\n",
            "2020-05-16\n",
            "Python fwdays'20\n",
            "\n",
            "2020-05-16\n",
            "Django Girls Groningen\n",
            "\n",
            "2020-05-23\n",
            "Python fwdays'20\n",
            "\n",
            "2020-06-05\n",
            "PyLondinium 2020 (postponed)\n",
            "\n",
            "2020-06-05\n",
            "PyCon CZ 2020 (canceled)\n",
            "\n",
            "\n",
            "\n",
            "\n",
            "\n",
            "\n",
            "\n",
            "Success Stories\n",
            "More\n",
            "\n",
            "\n",
            "Python's convenience has made it the most popular language for machine learning and artificial intelligence. Python's flexibility has allowed Anyscale to make ML/AI scalable from laptops to clusters.\n",
            "\n",
            "\n",
            "\n",
            "\n",
            "Python provides convenience and flexibility for scalable ML/AI by Dean Wampler\n",
            "\n",
            "\n",
            "\n",
            "\n",
            "\n",
            "\n",
            "\n",
            "\n",
            "Use Python for…\n",
            "More\n",
            "\n",
            "Web Development:\r\n",
            "        Django, Pyramid, Bottle, Tornado, Flask, web2py\n",
            "GUI Development:\r\n",
            "        tkInter, PyGObject, PyQt, PySide, Kivy, wxPython\n",
            "Scientific and Numeric:\r\n",
            "        \n",
            "SciPy, Pandas, IPython\n",
            "Software Development:\r\n",
            "        Buildbot, Trac, Roundup\n",
            "System Administration:\r\n",
            "        Ansible, Salt, OpenStack\n",
            "\n",
            "\n",
            "\n",
            "\n",
            "\n",
            "\n",
            ">>> Python Enhancement Proposals (PEPs): The future of Python is discussed here.\n",
            " RSS\n",
            "\n",
            "\n",
            "\n",
            "\n",
            "\n",
            ">>> Python Software Foundation\n",
            "\n",
            "The mission of the Python Software Foundation is to promote, protect, and advance the Python programming language, and to support and facilitate the growth of a diverse and international community of Python programmers. Learn more \n",
            "\n",
            "Become a Member\n",
            "Donate to the PSF\n",
            "\n",
            "\n",
            "\n",
            "\n",
            "\n",
            "\n",
            "\n",
            "\n",
            "\n",
            "▲ Back to Top\n",
            "\n",
            "\n",
            "About\n",
            "\n",
            "Applications\n",
            "Quotes\n",
            "Getting Started\n",
            "Help\n",
            "Python Brochure\n",
            "\n",
            "\n",
            "\n",
            "Downloads\n",
            "\n",
            "All releases\n",
            "Source code\n",
            "Windows\n",
            "Mac OS X\n",
            "Other Platforms\n",
            "License\n",
            "Alternative Implementations\n",
            "\n",
            "\n",
            "\n",
            "Documentation\n",
            "\n",
            "Docs\n",
            "Audio/Visual Talks\n",
            "Beginner's Guide\n",
            "Developer's Guide\n",
            "FAQ\n",
            "Non-English Docs\n",
            "PEP Index\n",
            "Python Books\n",
            "Python Essays\n",
            "\n",
            "\n",
            "\n",
            "Community\n",
            "\n",
            "Community Survey\n",
            "Diversity\n",
            "Mailing Lists\n",
            "IRC\n",
            "Forums\n",
            "PSF Annual Impact Report\n",
            "Python Conferences\n",
            "Special Interest Groups\n",
            "Python Logo\n",
            "Python Wiki\n",
            "Merchandise\n",
            "Community Awards\n",
            "Code of Conduct\n",
            "\n",
            "\n",
            "\n",
            "Success Stories\n",
            "\n",
            "Arts\n",
            "Business\n",
            "Education\n",
            "Engineering\n",
            "Government\n",
            "Scientific\n",
            "Software Development\n",
            "\n",
            "\n",
            "\n",
            "News\n",
            "\n",
            "Python News\n",
            "PSF Newsletter\n",
            "Community News\n",
            "PSF News\n",
            "PyCon News\n",
            "\n",
            "\n",
            "\n",
            "Events\n",
            "\n",
            "Python Events\n",
            "User Group Events\n",
            "Python Events Archive\n",
            "User Group Events Archive\n",
            "Submit an Event\n",
            "\n",
            "\n",
            "\n",
            "Contributing\n",
            "\n",
            "Developer's Guide\n",
            "Issue Tracker\n",
            "python-dev list\n",
            "Core Mentorship\n",
            "Report a Security Issue\n",
            "\n",
            "\n",
            "\n",
            "▲ Back to Top\n",
            "\n",
            " \n",
            "\n",
            "\n",
            "\n",
            "Help & General Contact\n",
            "Diversity Initiatives\n",
            "Submit Website Bug\n",
            "\n",
            "Status \n",
            "\n",
            "\n",
            "\n",
            "\n",
            "Copyright ©2001-2020.\n",
            "                             Python Software Foundation\n",
            "                             Legal Statements\n",
            "                             Privacy Policy\n",
            "                             Powered by Heroku\n",
            "\n",
            "\n",
            "\n",
            "\n",
            "\n",
            "\n",
            "\n",
            "window.jQuery || document.write('<script src=\"/static/js/libs/jquery-1.8.2.min.js\"><\\/script>')\n",
            "\n",
            "\n",
            "\n",
            "\n",
            "\n",
            "\n",
            "\n",
            "\n"
          ],
          "name": "stdout"
        }
      ]
    },
    {
      "cell_type": "markdown",
      "metadata": {
        "id": "IAVTBXIZsIl2",
        "colab_type": "text"
      },
      "source": [
        "**To print the names of all HTML tags of a given web page going through the document tree.**"
      ]
    },
    {
      "cell_type": "code",
      "metadata": {
        "id": "cWB0Yj8jr_hT",
        "colab_type": "code",
        "colab": {
          "base_uri": "https://localhost:8080/",
          "height": 1000
        },
        "outputId": "0e58ed98-31e0-4c57-e506-4d73c2b58f2b"
      },
      "source": [
        "import requests\n",
        "from bs4 import BeautifulSoup\n",
        "url='https://www.python.org/'\n",
        "reqs=requests.get(url)\n",
        "soup=BeautifulSoup(reqs.text,'lxml')\n",
        "print('\\nNames of all HTML tags (https://www.python.org):\\n')\n",
        "for child in soup.recursiveChildGenerator():\n",
        "  if child.name:\n",
        "    print(child.name)"
      ],
      "execution_count": 35,
      "outputs": [
        {
          "output_type": "stream",
          "text": [
            "\n",
            "Names of all HTML tags (https://www.python.org):\n",
            "\n",
            "html\n",
            "head\n",
            "meta\n",
            "meta\n",
            "link\n",
            "meta\n",
            "meta\n",
            "meta\n",
            "meta\n",
            "meta\n",
            "meta\n",
            "meta\n",
            "meta\n",
            "meta\n",
            "meta\n",
            "script\n",
            "link\n",
            "link\n",
            "link\n",
            "link\n",
            "link\n",
            "link\n",
            "link\n",
            "link\n",
            "meta\n",
            "meta\n",
            "meta\n",
            "title\n",
            "meta\n",
            "meta\n",
            "meta\n",
            "meta\n",
            "meta\n",
            "meta\n",
            "meta\n",
            "meta\n",
            "meta\n",
            "link\n",
            "link\n",
            "link\n",
            "link\n",
            "link\n",
            "script\n",
            "script\n",
            "body\n",
            "div\n",
            "div\n",
            "p\n",
            "strong\n",
            "div\n",
            "nav\n",
            "div\n",
            "a\n",
            "a\n",
            "span\n",
            "span\n",
            "ul\n",
            "li\n",
            "a\n",
            "li\n",
            "a\n",
            "li\n",
            "a\n",
            "li\n",
            "a\n",
            "li\n",
            "a\n",
            "li\n",
            "a\n",
            "a\n",
            "span\n",
            "span\n",
            "header\n",
            "div\n",
            "h1\n",
            "a\n",
            "img\n",
            "div\n",
            "a\n",
            "div\n",
            "a\n",
            "span\n",
            "form\n",
            "fieldset\n",
            "span\n",
            "label\n",
            "input\n",
            "button\n",
            "span\n",
            "div\n",
            "ul\n",
            "li\n",
            "a\n",
            "strong\n",
            "small\n",
            "ul\n",
            "li\n",
            "a\n",
            "li\n",
            "a\n",
            "li\n",
            "a\n",
            "div\n",
            "ul\n",
            "li\n",
            "a\n",
            "ul\n",
            "li\n",
            "a\n",
            "span\n",
            "li\n",
            "a\n",
            "span\n",
            "li\n",
            "a\n",
            "span\n",
            "span\n",
            "nav\n",
            "ul\n",
            "li\n",
            "a\n",
            "ul\n",
            "li\n",
            "a\n",
            "li\n",
            "a\n",
            "li\n",
            "a\n",
            "li\n",
            "a\n",
            "li\n",
            "a\n",
            "li\n",
            "a\n",
            "ul\n",
            "li\n",
            "a\n",
            "li\n",
            "a\n",
            "li\n",
            "a\n",
            "li\n",
            "a\n",
            "li\n",
            "a\n",
            "li\n",
            "a\n",
            "li\n",
            "a\n",
            "li\n",
            "a\n",
            "ul\n",
            "li\n",
            "a\n",
            "li\n",
            "a\n",
            "li\n",
            "a\n",
            "li\n",
            "a\n",
            "li\n",
            "a\n",
            "li\n",
            "a\n",
            "li\n",
            "a\n",
            "li\n",
            "a\n",
            "li\n",
            "a\n",
            "li\n",
            "a\n",
            "ul\n",
            "li\n",
            "a\n",
            "li\n",
            "a\n",
            "li\n",
            "a\n",
            "li\n",
            "a\n",
            "li\n",
            "a\n",
            "li\n",
            "a\n",
            "li\n",
            "a\n",
            "li\n",
            "a\n",
            "li\n",
            "a\n",
            "li\n",
            "a\n",
            "li\n",
            "a\n",
            "li\n",
            "a\n",
            "li\n",
            "a\n",
            "li\n",
            "a\n",
            "ul\n",
            "li\n",
            "a\n",
            "li\n",
            "a\n",
            "li\n",
            "a\n",
            "li\n",
            "a\n",
            "li\n",
            "a\n",
            "li\n",
            "a\n",
            "li\n",
            "a\n",
            "li\n",
            "a\n",
            "ul\n",
            "li\n",
            "a\n",
            "li\n",
            "a\n",
            "li\n",
            "a\n",
            "li\n",
            "a\n",
            "li\n",
            "a\n",
            "li\n",
            "a\n",
            "ul\n",
            "li\n",
            "a\n",
            "li\n",
            "a\n",
            "li\n",
            "a\n",
            "li\n",
            "a\n",
            "li\n",
            "a\n",
            "div\n",
            "div\n",
            "ul\n",
            "li\n",
            "a\n",
            "span\n",
            "ul\n",
            "li\n",
            "div\n",
            "pre\n",
            "code\n",
            "span\n",
            "span\n",
            "div\n",
            "h1\n",
            "p\n",
            "a\n",
            "li\n",
            "div\n",
            "pre\n",
            "code\n",
            "span\n",
            "span\n",
            "span\n",
            "span\n",
            "div\n",
            "h1\n",
            "p\n",
            "a\n",
            "li\n",
            "div\n",
            "pre\n",
            "code\n",
            "span\n",
            "span\n",
            "span\n",
            "span\n",
            "span\n",
            "span\n",
            "span\n",
            "div\n",
            "h1\n",
            "p\n",
            "code\n",
            "code\n",
            "code\n",
            "code\n",
            "code\n",
            "a\n",
            "li\n",
            "div\n",
            "pre\n",
            "code\n",
            "span\n",
            "span\n",
            "span\n",
            "span\n",
            "div\n",
            "h1\n",
            "p\n",
            "a\n",
            "li\n",
            "div\n",
            "pre\n",
            "code\n",
            "span\n",
            "span\n",
            "div\n",
            "h1\n",
            "p\n",
            "code\n",
            "code\n",
            "code\n",
            "code\n",
            "a\n",
            "div\n",
            "p\n",
            "span\n",
            "a\n",
            "div\n",
            "div\n",
            "section\n",
            "div\n",
            "div\n",
            "h2\n",
            "span\n",
            "p\n",
            "p\n",
            "a\n",
            "div\n",
            "h2\n",
            "span\n",
            "p\n",
            "p\n",
            "a\n",
            "div\n",
            "h2\n",
            "span\n",
            "p\n",
            "p\n",
            "a\n",
            "div\n",
            "h2\n",
            "span\n",
            "p\n",
            "strong\n",
            "p\n",
            "a\n",
            "div\n",
            "div\n",
            "div\n",
            "h2\n",
            "span\n",
            "p\n",
            "a\n",
            "ul\n",
            "li\n",
            "time\n",
            "span\n",
            "a\n",
            "li\n",
            "time\n",
            "span\n",
            "a\n",
            "li\n",
            "time\n",
            "span\n",
            "a\n",
            "li\n",
            "time\n",
            "span\n",
            "a\n",
            "li\n",
            "time\n",
            "span\n",
            "a\n",
            "div\n",
            "div\n",
            "h2\n",
            "span\n",
            "p\n",
            "a\n",
            "ul\n",
            "li\n",
            "time\n",
            "span\n",
            "a\n",
            "li\n",
            "time\n",
            "span\n",
            "a\n",
            "li\n",
            "time\n",
            "span\n",
            "a\n",
            "li\n",
            "time\n",
            "span\n",
            "a\n",
            "li\n",
            "time\n",
            "span\n",
            "a\n",
            "div\n",
            "div\n",
            "div\n",
            "h2\n",
            "span\n",
            "p\n",
            "a\n",
            "div\n",
            "blockquote\n",
            "a\n",
            "table\n",
            "tbody\n",
            "tr\n",
            "td\n",
            "p\n",
            "a\n",
            "em\n",
            "div\n",
            "div\n",
            "h2\n",
            "span\n",
            "p\n",
            "a\n",
            "ul\n",
            "li\n",
            "b\n",
            "span\n",
            "a\n",
            "a\n",
            "a\n",
            "a\n",
            "a\n",
            "a\n",
            "li\n",
            "b\n",
            "span\n",
            "a\n",
            "a\n",
            "a\n",
            "a\n",
            "a\n",
            "a\n",
            "li\n",
            "b\n",
            "span\n",
            "a\n",
            "a\n",
            "a\n",
            "li\n",
            "b\n",
            "span\n",
            "a\n",
            "a\n",
            "a\n",
            "li\n",
            "b\n",
            "span\n",
            "a\n",
            "a\n",
            "a\n",
            "div\n",
            "h2\n",
            "span\n",
            "a\n",
            "span\n",
            "span\n",
            "a\n",
            "span\n",
            "div\n",
            "div\n",
            "h2\n",
            "span\n",
            "a\n",
            "p\n",
            "a\n",
            "p\n",
            "a\n",
            "a\n",
            "footer\n",
            "div\n",
            "div\n",
            "a\n",
            "span\n",
            "span\n",
            "ul\n",
            "li\n",
            "a\n",
            "ul\n",
            "li\n",
            "a\n",
            "li\n",
            "a\n",
            "li\n",
            "a\n",
            "li\n",
            "a\n",
            "li\n",
            "a\n",
            "li\n",
            "a\n",
            "ul\n",
            "li\n",
            "a\n",
            "li\n",
            "a\n",
            "li\n",
            "a\n",
            "li\n",
            "a\n",
            "li\n",
            "a\n",
            "li\n",
            "a\n",
            "li\n",
            "a\n",
            "li\n",
            "a\n",
            "ul\n",
            "li\n",
            "a\n",
            "li\n",
            "a\n",
            "li\n",
            "a\n",
            "li\n",
            "a\n",
            "li\n",
            "a\n",
            "li\n",
            "a\n",
            "li\n",
            "a\n",
            "li\n",
            "a\n",
            "li\n",
            "a\n",
            "li\n",
            "a\n",
            "ul\n",
            "li\n",
            "a\n",
            "li\n",
            "a\n",
            "li\n",
            "a\n",
            "li\n",
            "a\n",
            "li\n",
            "a\n",
            "li\n",
            "a\n",
            "li\n",
            "a\n",
            "li\n",
            "a\n",
            "li\n",
            "a\n",
            "li\n",
            "a\n",
            "li\n",
            "a\n",
            "li\n",
            "a\n",
            "li\n",
            "a\n",
            "li\n",
            "a\n",
            "ul\n",
            "li\n",
            "a\n",
            "li\n",
            "a\n",
            "li\n",
            "a\n",
            "li\n",
            "a\n",
            "li\n",
            "a\n",
            "li\n",
            "a\n",
            "li\n",
            "a\n",
            "li\n",
            "a\n",
            "ul\n",
            "li\n",
            "a\n",
            "li\n",
            "a\n",
            "li\n",
            "a\n",
            "li\n",
            "a\n",
            "li\n",
            "a\n",
            "li\n",
            "a\n",
            "ul\n",
            "li\n",
            "a\n",
            "li\n",
            "a\n",
            "li\n",
            "a\n",
            "li\n",
            "a\n",
            "li\n",
            "a\n",
            "li\n",
            "a\n",
            "ul\n",
            "li\n",
            "a\n",
            "li\n",
            "a\n",
            "li\n",
            "a\n",
            "li\n",
            "a\n",
            "li\n",
            "a\n",
            "a\n",
            "span\n",
            "span\n",
            "div\n",
            "div\n",
            "ul\n",
            "li\n",
            "a\n",
            "span\n",
            "li\n",
            "a\n",
            "span\n",
            "li\n",
            "a\n",
            "li\n",
            "a\n",
            "span\n",
            "div\n",
            "p\n",
            "small\n",
            "span\n",
            "span\n",
            "a\n",
            "span\n",
            "a\n",
            "span\n",
            "a\n",
            "span\n",
            "a\n",
            "script\n",
            "script\n",
            "script\n",
            "script\n",
            "script\n"
          ],
          "name": "stdout"
        }
      ]
    },
    {
      "cell_type": "markdown",
      "metadata": {
        "id": "9frcq2WVtEIu",
        "colab_type": "text"
      },
      "source": [
        "**To retrieve children of the html tag from a given web page.**"
      ]
    },
    {
      "cell_type": "code",
      "metadata": {
        "id": "I-3rX1Iosz8z",
        "colab_type": "code",
        "colab": {
          "base_uri": "https://localhost:8080/",
          "height": 86
        },
        "outputId": "292e2e45-6fa2-4d34-f43c-c22e2b322487"
      },
      "source": [
        "import requests\n",
        "from bs4 import BeautifulSoup\n",
        "url='https://www.python.org/'\n",
        "reqs= requests.get(url)\n",
        "soup=BeautifulSoup(reqs.text,'lxml')\n",
        "print(\"\\nChildren of the html tag (https://www.python.org):\\n\")\n",
        "root=soup.html\n",
        "root_childs=[e.name for e in root.children if e.name is not None]\n",
        "print(root_childs)\n"
      ],
      "execution_count": 37,
      "outputs": [
        {
          "output_type": "stream",
          "text": [
            "\n",
            "Children of the html tag (https://www.python.org):\n",
            "\n",
            "['head', 'body']\n"
          ],
          "name": "stdout"
        }
      ]
    },
    {
      "cell_type": "markdown",
      "metadata": {
        "id": "x3U1BOQvuQCi",
        "colab_type": "text"
      },
      "source": [
        "**To retrieve all descendants of the body tag from a given web page.**"
      ]
    },
    {
      "cell_type": "code",
      "metadata": {
        "id": "LPD5i7VauCd-",
        "colab_type": "code",
        "colab": {
          "base_uri": "https://localhost:8080/",
          "height": 106
        },
        "outputId": "dca7c332-fa07-405e-950a-1f14a8e37cf7"
      },
      "source": [
        "import requests\n",
        "from bs4 import BeautifulSoup\n",
        "url='https://www.python.org/'\n",
        "reqs=requests.get(url)\n",
        "soup=BeautifulSoup(reqs.text,'lxml')\n",
        "print(\"\\nDescendants of the body tag (https://www.python.org):\\n\")\n",
        "root_child=[e.name for e in root.descendants if e.name is not None]\n",
        "print(root_child)"
      ],
      "execution_count": 40,
      "outputs": [
        {
          "output_type": "stream",
          "text": [
            "\n",
            "Descendants of the body tag (https://www.python.org):\n",
            "\n",
            "['head', 'meta', 'meta', 'link', 'meta', 'meta', 'meta', 'meta', 'meta', 'meta', 'meta', 'meta', 'meta', 'meta', 'script', 'link', 'link', 'link', 'link', 'link', 'link', 'link', 'link', 'meta', 'meta', 'meta', 'title', 'meta', 'meta', 'meta', 'meta', 'meta', 'meta', 'meta', 'meta', 'meta', 'link', 'link', 'link', 'link', 'link', 'script', 'script', 'body', 'div', 'div', 'p', 'strong', 'div', 'nav', 'div', 'a', 'a', 'span', 'span', 'ul', 'li', 'a', 'li', 'a', 'li', 'a', 'li', 'a', 'li', 'a', 'li', 'a', 'a', 'span', 'span', 'header', 'div', 'h1', 'a', 'img', 'div', 'a', 'div', 'a', 'span', 'form', 'fieldset', 'span', 'label', 'input', 'button', 'span', 'div', 'ul', 'li', 'a', 'strong', 'small', 'ul', 'li', 'a', 'li', 'a', 'li', 'a', 'div', 'ul', 'li', 'a', 'ul', 'li', 'a', 'span', 'li', 'a', 'span', 'li', 'a', 'span', 'span', 'nav', 'ul', 'li', 'a', 'ul', 'li', 'a', 'li', 'a', 'li', 'a', 'li', 'a', 'li', 'a', 'li', 'a', 'ul', 'li', 'a', 'li', 'a', 'li', 'a', 'li', 'a', 'li', 'a', 'li', 'a', 'li', 'a', 'li', 'a', 'ul', 'li', 'a', 'li', 'a', 'li', 'a', 'li', 'a', 'li', 'a', 'li', 'a', 'li', 'a', 'li', 'a', 'li', 'a', 'li', 'a', 'ul', 'li', 'a', 'li', 'a', 'li', 'a', 'li', 'a', 'li', 'a', 'li', 'a', 'li', 'a', 'li', 'a', 'li', 'a', 'li', 'a', 'li', 'a', 'li', 'a', 'li', 'a', 'li', 'a', 'ul', 'li', 'a', 'li', 'a', 'li', 'a', 'li', 'a', 'li', 'a', 'li', 'a', 'li', 'a', 'li', 'a', 'ul', 'li', 'a', 'li', 'a', 'li', 'a', 'li', 'a', 'li', 'a', 'li', 'a', 'ul', 'li', 'a', 'li', 'a', 'li', 'a', 'li', 'a', 'li', 'a', 'div', 'div', 'ul', 'li', 'a', 'span', 'ul', 'li', 'div', 'pre', 'code', 'span', 'span', 'div', 'h1', 'p', 'a', 'li', 'div', 'pre', 'code', 'span', 'span', 'span', 'span', 'div', 'h1', 'p', 'a', 'li', 'div', 'pre', 'code', 'span', 'span', 'span', 'span', 'span', 'span', 'span', 'div', 'h1', 'p', 'code', 'code', 'code', 'code', 'code', 'a', 'li', 'div', 'pre', 'code', 'span', 'span', 'span', 'span', 'div', 'h1', 'p', 'a', 'li', 'div', 'pre', 'code', 'span', 'span', 'div', 'h1', 'p', 'code', 'code', 'code', 'code', 'a', 'div', 'p', 'span', 'a', 'div', 'div', 'section', 'div', 'div', 'h2', 'span', 'p', 'p', 'a', 'div', 'h2', 'span', 'p', 'p', 'a', 'div', 'h2', 'span', 'p', 'p', 'a', 'div', 'h2', 'span', 'p', 'strong', 'p', 'a', 'div', 'div', 'div', 'h2', 'span', 'p', 'a', 'ul', 'li', 'time', 'span', 'a', 'li', 'time', 'span', 'a', 'li', 'time', 'span', 'a', 'li', 'time', 'span', 'a', 'li', 'time', 'span', 'a', 'div', 'div', 'h2', 'span', 'p', 'a', 'ul', 'li', 'time', 'span', 'a', 'li', 'time', 'span', 'a', 'li', 'time', 'span', 'a', 'li', 'time', 'span', 'a', 'li', 'time', 'span', 'a', 'div', 'div', 'div', 'h2', 'span', 'p', 'a', 'div', 'blockquote', 'a', 'table', 'tbody', 'tr', 'td', 'p', 'a', 'em', 'div', 'div', 'h2', 'span', 'p', 'a', 'ul', 'li', 'b', 'span', 'a', 'a', 'a', 'a', 'a', 'a', 'li', 'b', 'span', 'a', 'a', 'a', 'a', 'a', 'a', 'li', 'b', 'span', 'a', 'a', 'a', 'li', 'b', 'span', 'a', 'a', 'a', 'li', 'b', 'span', 'a', 'a', 'a', 'div', 'h2', 'span', 'a', 'span', 'span', 'a', 'span', 'div', 'div', 'h2', 'span', 'a', 'p', 'a', 'p', 'a', 'a', 'footer', 'div', 'div', 'a', 'span', 'span', 'ul', 'li', 'a', 'ul', 'li', 'a', 'li', 'a', 'li', 'a', 'li', 'a', 'li', 'a', 'li', 'a', 'ul', 'li', 'a', 'li', 'a', 'li', 'a', 'li', 'a', 'li', 'a', 'li', 'a', 'li', 'a', 'li', 'a', 'ul', 'li', 'a', 'li', 'a', 'li', 'a', 'li', 'a', 'li', 'a', 'li', 'a', 'li', 'a', 'li', 'a', 'li', 'a', 'li', 'a', 'ul', 'li', 'a', 'li', 'a', 'li', 'a', 'li', 'a', 'li', 'a', 'li', 'a', 'li', 'a', 'li', 'a', 'li', 'a', 'li', 'a', 'li', 'a', 'li', 'a', 'li', 'a', 'li', 'a', 'ul', 'li', 'a', 'li', 'a', 'li', 'a', 'li', 'a', 'li', 'a', 'li', 'a', 'li', 'a', 'li', 'a', 'ul', 'li', 'a', 'li', 'a', 'li', 'a', 'li', 'a', 'li', 'a', 'li', 'a', 'ul', 'li', 'a', 'li', 'a', 'li', 'a', 'li', 'a', 'li', 'a', 'li', 'a', 'ul', 'li', 'a', 'li', 'a', 'li', 'a', 'li', 'a', 'li', 'a', 'a', 'span', 'span', 'div', 'div', 'ul', 'li', 'a', 'span', 'li', 'a', 'span', 'li', 'a', 'li', 'a', 'span', 'div', 'p', 'small', 'span', 'span', 'a', 'span', 'a', 'span', 'a', 'span', 'a', 'script', 'script', 'script', 'script', 'script']\n"
          ],
          "name": "stdout"
        }
      ]
    },
    {
      "cell_type": "markdown",
      "metadata": {
        "id": "jPRE9PGlu_yL",
        "colab_type": "text"
      },
      "source": [
        "**To retrieve the HTML code of the title, its text, and the HTML code of its parent.**"
      ]
    },
    {
      "cell_type": "code",
      "metadata": {
        "id": "kTe411Xuu5JQ",
        "colab_type": "code",
        "colab": {
          "base_uri": "https://localhost:8080/",
          "height": 1000
        },
        "outputId": "210ba674-078a-4152-d774-61a1e0a63a11"
      },
      "source": [
        "import requests\n",
        "from bs4 import BeautifulSoup\n",
        "url='https://www.python.org/'\n",
        "soup=BeautifulSoup(reqs.text,'lxml')\n",
        "print('title')\n",
        "print(soup.title)\n",
        "print('title text')\n",
        "print(soup.title.text)\n",
        "print('Parent content in the title:')\n",
        "print(soup.title.parent)"
      ],
      "execution_count": 41,
      "outputs": [
        {
          "output_type": "stream",
          "text": [
            "title\n",
            "<title>Welcome to Python.org</title>\n",
            "title text\n",
            "Welcome to Python.org\n",
            "Parent content in the title:\n",
            "<head>\n",
            "<meta charset=\"utf-8\"/>\n",
            "<meta content=\"IE=edge\" http-equiv=\"X-UA-Compatible\"/>\n",
            "<link href=\"//ajax.googleapis.com/ajax/libs/jquery/1.8.2/jquery.min.js\" rel=\"prefetch\"/>\n",
            "<meta content=\"Python.org\" name=\"application-name\"/>\n",
            "<meta content=\"The official home of the Python Programming Language\" name=\"msapplication-tooltip\"/>\n",
            "<meta content=\"Python.org\" name=\"apple-mobile-web-app-title\"/>\n",
            "<meta content=\"yes\" name=\"apple-mobile-web-app-capable\"/>\n",
            "<meta content=\"black\" name=\"apple-mobile-web-app-status-bar-style\"/>\n",
            "<meta content=\"width=device-width, initial-scale=1.0\" name=\"viewport\"/>\n",
            "<meta content=\"True\" name=\"HandheldFriendly\"/>\n",
            "<meta content=\"telephone=no\" name=\"format-detection\"/>\n",
            "<meta content=\"on\" http-equiv=\"cleartype\"/>\n",
            "<meta content=\"false\" http-equiv=\"imagetoolbar\"/>\n",
            "<script src=\"/static/js/libs/modernizr.js\"></script>\n",
            "<link href=\"/static/stylesheets/style.30afed881237.css\" rel=\"stylesheet\" title=\"default\" type=\"text/css\"/>\n",
            "<link href=\"/static/stylesheets/mq.eef77a5d2257.css\" media=\"not print, braille, embossed, speech, tty\" rel=\"stylesheet\" type=\"text/css\"/>\n",
            "<!--[if (lte IE 8)&(!IEMobile)]>\n",
            "    <link href=\"/static/stylesheets/no-mq.7946159eb289.css\" rel=\"stylesheet\" type=\"text/css\" media=\"screen\" />\n",
            "    \n",
            "    \n",
            "    <![endif]-->\n",
            "<link href=\"/static/favicon.ico\" rel=\"icon\" type=\"image/x-icon\"/>\n",
            "<link href=\"/static/apple-touch-icon-144x144-precomposed.png\" rel=\"apple-touch-icon-precomposed\" sizes=\"144x144\"/>\n",
            "<link href=\"/static/apple-touch-icon-114x114-precomposed.png\" rel=\"apple-touch-icon-precomposed\" sizes=\"114x114\"/>\n",
            "<link href=\"/static/apple-touch-icon-72x72-precomposed.png\" rel=\"apple-touch-icon-precomposed\" sizes=\"72x72\"/>\n",
            "<link href=\"/static/apple-touch-icon-precomposed.png\" rel=\"apple-touch-icon-precomposed\"/>\n",
            "<link href=\"/static/apple-touch-icon-precomposed.png\" rel=\"apple-touch-icon\"/>\n",
            "<meta content=\"/static/metro-icon-144x144-precomposed.png\" name=\"msapplication-TileImage\"/><!-- white shape -->\n",
            "<meta content=\"#3673a5\" name=\"msapplication-TileColor\"/><!-- python blue -->\n",
            "<meta content=\"#3673a5\" name=\"msapplication-navbutton-color\"/>\n",
            "<title>Welcome to Python.org</title>\n",
            "<meta content=\"The official home of the Python Programming Language\" name=\"description\"/>\n",
            "<meta content=\"Python programming language object oriented web free open source software license documentation download community\" name=\"keywords\"/>\n",
            "<meta content=\"website\" property=\"og:type\"/>\n",
            "<meta content=\"Python.org\" property=\"og:site_name\"/>\n",
            "<meta content=\"Welcome to Python.org\" property=\"og:title\"/>\n",
            "<meta content=\"The official home of the Python Programming Language\" property=\"og:description\"/>\n",
            "<meta content=\"https://www.python.org/static/opengraph-icon-200x200.png\" property=\"og:image\"/>\n",
            "<meta content=\"https://www.python.org/static/opengraph-icon-200x200.png\" property=\"og:image:secure_url\"/>\n",
            "<meta content=\"https://www.python.org/\" property=\"og:url\"/>\n",
            "<link href=\"/static/humans.txt\" rel=\"author\"/>\n",
            "<link href=\"https://www.python.org/dev/peps/peps.rss/\" rel=\"alternate\" title=\"Python Enhancement Proposals\" type=\"application/rss+xml\"/>\n",
            "<link href=\"https://www.python.org/jobs/feed/rss/\" rel=\"alternate\" title=\"Python Job Opportunities\" type=\"application/rss+xml\"/>\n",
            "<link href=\"https://feeds.feedburner.com/PythonSoftwareFoundationNews\" rel=\"alternate\" title=\"Python Software Foundation News\" type=\"application/rss+xml\"/>\n",
            "<link href=\"https://feeds.feedburner.com/PythonInsider\" rel=\"alternate\" title=\"Python Insider\" type=\"application/rss+xml\"/>\n",
            "<script type=\"application/ld+json\">\n",
            "     {\n",
            "       \"@context\": \"https://schema.org\",\n",
            "       \"@type\": \"WebSite\",\n",
            "       \"url\": \"https://www.python.org/\",\n",
            "       \"potentialAction\": {\n",
            "         \"@type\": \"SearchAction\",\n",
            "         \"target\": \"https://www.python.org/search/?q={search_term_string}\",\n",
            "         \"query-input\": \"required name=search_term_string\"\n",
            "       }\n",
            "     }\n",
            "    </script>\n",
            "<script type=\"text/javascript\">\n",
            "    var _gaq = _gaq || [];\n",
            "    _gaq.push(['_setAccount', 'UA-39055973-1']);\n",
            "    _gaq.push(['_trackPageview']);\n",
            "\n",
            "    (function() {\n",
            "        var ga = document.createElement('script'); ga.type = 'text/javascript'; ga.async = true;\n",
            "        ga.src = ('https:' == document.location.protocol ? 'https://ssl' : 'http://www') + '.google-analytics.com/ga.js';\n",
            "        var s = document.getElementsByTagName('script')[0]; s.parentNode.insertBefore(ga, s);\n",
            "    })();\n",
            "    </script>\n",
            "</head>\n"
          ],
          "name": "stdout"
        }
      ]
    },
    {
      "cell_type": "markdown",
      "metadata": {
        "id": "nLeE232vv05m",
        "colab_type": "text"
      },
      "source": [
        "**To find and print all li tags of a given web page.**"
      ]
    },
    {
      "cell_type": "code",
      "metadata": {
        "id": "lgKZffYIvup2",
        "colab_type": "code",
        "colab": {
          "base_uri": "https://localhost:8080/",
          "height": 242
        },
        "outputId": "d14121e2-a48b-4efe-e428-29134a2546be"
      },
      "source": [
        "import requests\n",
        "from bs4 import BeautifulSoup\n",
        "url='https://www.w3resource.com/'\n",
        "soup=BeautifulSoup(reqs.text,'lxml')\n",
        "print(\"\\nFind and print all li tags:\\n\")\n",
        "for tag in soup.find_all('li'):\n",
        "  print(\"{0}: {1}\".format(tag.name,tag.text))"
      ],
      "execution_count": 50,
      "outputs": [
        {
          "output_type": "stream",
          "text": [
            "\n",
            "Find and print all li tags:\n",
            "\n",
            "li: Facebook\n",
            "li: Twitter\n",
            "li: Google Plus\n",
            "li: Linkedin\n",
            "li: RSS\n",
            "li: Privacy\n",
            "li: About\n",
            "li: Contact\n",
            "li: Feedback\n",
            "li: Advertise\n"
          ],
          "name": "stdout"
        }
      ]
    },
    {
      "cell_type": "markdown",
      "metadata": {
        "id": "Ug0rQugjxOeH",
        "colab_type": "text"
      },
      "source": [
        "**To print content of elements that contain a specified string of a given web page.**"
      ]
    },
    {
      "cell_type": "code",
      "metadata": {
        "id": "ZrPf0KvUwb6G",
        "colab_type": "code",
        "colab": {
          "base_uri": "https://localhost:8080/",
          "height": 1000
        },
        "outputId": "dfc774dc-b384-4765-9894-41d53a0a27a1"
      },
      "source": [
        "import requests\n",
        "import re\n",
        "from bs4 import BeautifulSoup\n",
        "url='https://www.python.org/'\n",
        "reqs=requests.get(url)\n",
        "soup=BeautifulSoup(reqs.text,'lxml')\n",
        "print(\"\\nContent of elements that contain 'Python' string:\")\n",
        "str1=soup.find_all(string=re.compile('Python'))\n",
        "for txt in str1:\n",
        "  print(' '.join(txt.split()))"
      ],
      "execution_count": 51,
      "outputs": [
        {
          "output_type": "stream",
          "text": [
            "\n",
            "Content of elements that contain 'Python' string:\n",
            "Welcome to Python.org\n",
            "Python\n",
            "The Python Network\n",
            "Python Brochure\n",
            "Python Books\n",
            "Python Essays\n",
            "Python Conferences\n",
            "Python Logo\n",
            "Python Wiki\n",
            "Python News\n",
            "Python Events\n",
            "Python Events Archive\n",
            "# Python 3: Fibonacci series up to n\n",
            "The core of extensible programming is defining functions. Python allows mandatory and optional arguments, keyword arguments, and even arbitrary argument lists.\n",
            "More about defining functions in Python 3\n",
            "# Python 3: List comprehensions\n",
            "Lists (known as arrays in other languages) are one of the compound data types that Python understands. Lists can be indexed, sliced and manipulated with other built-in functions.\n",
            "More about lists in Python 3\n",
            "# Python 3: Simple arithmetic\n",
            "Calculations are simple with Python, and expression syntax is straightforward: the operators\n",
            "More about simple math functions in Python 3\n",
            "# Python 3: Simple output (with Unicode)\n",
            ">>> print(\"Hello, I'm Python!\")\n",
            "Hello, I'm Python!\n",
            "What is your name? Python Hi, Python.\n",
            "Experienced programmers in any other language can pick up Python very quickly, and beginners find the clean syntax and indentation structure easy to learn.\n",
            "with our Python 3 overview.\n",
            "Python knows the usual control flow statements that other languages speak —\n",
            "More control flow tools in Python 3\n",
            "Python is a programming language that lets you work quickly\n",
            "Whether you're new to programming or an experienced developer, it's easy to learn and use Python.\n",
            "Python source code and installers are available for download for all versions!\n",
            "Python 3.8.2\n",
            "Documentation for Python's standard library, along with tutorials and guides, are available online.\n",
            "Looking for work or have a Python related position that you're trying to hire for? Our\n",
            "CPython on Mobile platforms - Python Language Summit 2020\n",
            "Core Workflow updates - Python Language Summit 2020\n",
            "Python Developers Survey 2019 Results\n",
            "Python’s migration to GitHub - Request for Project Manager Resumes\n",
            "Property-Based Testing for Python builtins and the standard library - Python Language Summit 2020\n",
            "Python fwdays'20\n",
            "Python fwdays'20\n",
            "\"Python is all about automating repetitive tasks, leaving more time for your other SEO efforts.\"\n",
            "Using Python scripts to analyse SEO and broken links on your site\n",
            "Use Python for…\n",
            "wxPython\n",
            "IPython\n",
            "Python Enhancement Proposals\n",
            ": The future of Python\n",
            "Python Software Foundation\n",
            "The mission of the Python Software Foundation is to promote, protect, and advance the Python programming language, and to support and facilitate the growth of a diverse and international community of Python programmers.\n",
            "Python Brochure\n",
            "Python Books\n",
            "Python Essays\n",
            "Python Conferences\n",
            "Python Logo\n",
            "Python Wiki\n",
            "Python News\n",
            "Python Events\n",
            "Python Events Archive\n",
            "Python Software Foundation\n"
          ],
          "name": "stdout"
        }
      ]
    },
    {
      "cell_type": "markdown",
      "metadata": {
        "id": "TWJlm_T1yNNQ",
        "colab_type": "text"
      },
      "source": [
        "**To print the element(s) that has a specified id of a given web page.**"
      ]
    },
    {
      "cell_type": "code",
      "metadata": {
        "id": "nS4afkKNyDAb",
        "colab_type": "code",
        "colab": {
          "base_uri": "https://localhost:8080/",
          "height": 121
        },
        "outputId": "bc31f03d-df2e-4be7-e24f-a4211c79f1ff"
      },
      "source": [
        "import requests\n",
        "import re\n",
        "from bs4 import BeautifulSoup\n",
        "url = 'https://www.python.org/'\n",
        "reqs = requests.get(url)\n",
        "soup = BeautifulSoup(reqs.text, 'lxml')\n",
        "print(\"\\nelement(s) that has #python-network id:\\n\")\n",
        "print(soup.select_one(\"#python-network\"))"
      ],
      "execution_count": 52,
      "outputs": [
        {
          "output_type": "stream",
          "text": [
            "\n",
            "element(s) that has #python-network id:\n",
            "\n",
            "<a aria-hidden=\"true\" class=\"jump-link\" href=\"#top\" id=\"python-network\">\n",
            "<span aria-hidden=\"true\" class=\"icon-arrow-up\"><span>▲</span></span> The Python Network\n",
            "                </a>\n"
          ],
          "name": "stdout"
        }
      ]
    },
    {
      "cell_type": "markdown",
      "metadata": {
        "id": "2OgngXfiygc0",
        "colab_type": "text"
      },
      "source": [
        "**To create a Beautiful Soup parse tree into a nicely formatted Unicode string, with a separate line for each HTML/XML tag and string.**"
      ]
    },
    {
      "cell_type": "code",
      "metadata": {
        "id": "XTIOLbc-ydyV",
        "colab_type": "code",
        "colab": {
          "base_uri": "https://localhost:8080/",
          "height": 259
        },
        "outputId": "d06e6f88-e2d2-48cd-e7fd-cd3a559b5e52"
      },
      "source": [
        "from bs4 import BeautifulSoup\n",
        "str1 = \"<p>Some<b>bad<i>HTML Code</i></b></p>\"\n",
        "print(\"Original string:\")\n",
        "print(str1)\n",
        "soup = BeautifulSoup(\"<p>Some<b>bad<i>HTML Code</i></b></p>\", \"xml\")\n",
        "print(\"\\nFormatted Unicode string:\")\n",
        "print(soup.prettify())"
      ],
      "execution_count": 53,
      "outputs": [
        {
          "output_type": "stream",
          "text": [
            "Original string:\n",
            "<p>Some<b>bad<i>HTML Code</i></b></p>\n",
            "\n",
            "Formatted Unicode string:\n",
            "<?xml version=\"1.0\" encoding=\"utf-8\"?>\n",
            "<p>\n",
            " Some\n",
            " <b>\n",
            "  bad\n",
            "  <i>\n",
            "   HTML Code\n",
            "  </i>\n",
            " </b>\n",
            "</p>\n"
          ],
          "name": "stdout"
        }
      ]
    },
    {
      "cell_type": "markdown",
      "metadata": {
        "id": "FMrCguqxjJ4p",
        "colab_type": "text"
      },
      "source": [
        "**To find the first tag with a given attribute value in an html document.**"
      ]
    },
    {
      "cell_type": "code",
      "metadata": {
        "id": "Icwql3a5y01B",
        "colab_type": "code",
        "colab": {
          "base_uri": "https://localhost:8080/",
          "height": 52
        },
        "outputId": "1a97b2d6-8b26-48e4-b402-d6eb68dffa0a"
      },
      "source": [
        "from bs4 import BeautifulSoup\n",
        "soup= BeautifulSoup(html_doc,'lxml')\n",
        "print(soup.find(href='https://www.w3resource.com/css/CSS-tutorials.php'))\n"
      ],
      "execution_count": 2,
      "outputs": [
        {
          "output_type": "stream",
          "text": [
            "<a href=\"https://www.w3resource.com/css/CSS-tutorials.php\">Learn CSS from \n",
            "w3resource.com</a>\n"
          ],
          "name": "stdout"
        }
      ]
    },
    {
      "cell_type": "markdown",
      "metadata": {
        "id": "QBSLSYTYjyhZ",
        "colab_type": "text"
      },
      "source": [
        "**To find tag(s) beneath other tag(s) in a given html document.**"
      ]
    },
    {
      "cell_type": "code",
      "metadata": {
        "id": "fr-2jTcTjvxY",
        "colab_type": "code",
        "colab": {
          "base_uri": "https://localhost:8080/",
          "height": 155
        },
        "outputId": "c037cc79-acbc-417c-980f-478df4c1453c"
      },
      "source": [
        "from bs4 import BeautifulSoup\n",
        "soup=BeautifulSoup(html_doc,'lxml')\n",
        "print(\"\\na tag(s) Beneath body tag:\")\n",
        "print(soup.select(\"body a\"))\n",
        "print(\"\\nBeneath html head:\")\n",
        "print(soup.select(\"html head title\"))"
      ],
      "execution_count": 8,
      "outputs": [
        {
          "output_type": "stream",
          "text": [
            "\n",
            "a tag(s) Beneath body tag:\n",
            "[<a href=\"https://www.w3resource.com/html/HTML-tutorials.php\">Learn HTML from\n",
            "w3resource.com</a>, <a href=\"https://www.w3resource.com/css/CSS-tutorials.php\">Learn CSS from \n",
            "w3resource.com</a>]\n",
            "\n",
            "Beneath html head:\n",
            "[<title>An example of HTML page</title>]\n"
          ],
          "name": "stdout"
        }
      ]
    },
    {
      "cell_type": "markdown",
      "metadata": {
        "id": "C4PN6YKVlAoe",
        "colab_type": "text"
      },
      "source": [
        "**To find tag(s) directly beneath other tag(s) in a given html document.**"
      ]
    },
    {
      "cell_type": "code",
      "metadata": {
        "id": "8SNieFTYks1l",
        "colab_type": "code",
        "colab": {
          "base_uri": "https://localhost:8080/",
          "height": 173
        },
        "outputId": "cb59be23-fff4-4a7d-fa52-d939bcedfc4f"
      },
      "source": [
        "from bs4 import BeautifulSoup\n",
        "soup=BeautifulSoup(html_doc,'lxml')\n",
        "print(\"\\nBeneath directly head tag:\")\n",
        "print(soup.select(\"head > title\"))\n",
        "print()\n",
        "print(\"\\nBeneath directly p tag:\")\n",
        "print(soup.select(\"p > a\"))"
      ],
      "execution_count": 12,
      "outputs": [
        {
          "output_type": "stream",
          "text": [
            "\n",
            "Beneath directly head tag:\n",
            "[<title>An example of HTML page</title>]\n",
            "\n",
            "\n",
            "Beneath directly p tag:\n",
            "[<a href=\"https://www.w3resource.com/html/HTML-tutorials.php\">Learn HTML from\n",
            "w3resource.com</a>, <a href=\"https://www.w3resource.com/css/CSS-tutorials.php\">Learn CSS from \n",
            "w3resource.com</a>]\n"
          ],
          "name": "stdout"
        }
      ]
    },
    {
      "cell_type": "markdown",
      "metadata": {
        "id": "RbymygIHl4YA",
        "colab_type": "text"
      },
      "source": [
        "**To find the siblings of tags in a given html document.**"
      ]
    },
    {
      "cell_type": "code",
      "metadata": {
        "id": "bhaxg2GJloi-",
        "colab_type": "code",
        "colab": {
          "base_uri": "https://localhost:8080/",
          "height": 86
        },
        "outputId": "1af9ad3d-ee18-4ab1-e107-9edc2a54c372"
      },
      "source": [
        "from bs4 import BeautifulSoup\n",
        "soup=BeautifulSoup(html_doc,'lxml')\n",
        "print(\"\\nSiblings of tags:\")\n",
        "print(soup.select(\"#link1 ~ .sister\"))\n",
        "print(soup.select(\"#link1 + .sister\"))"
      ],
      "execution_count": 20,
      "outputs": [
        {
          "output_type": "stream",
          "text": [
            "\n",
            "Siblings of tags:\n",
            "[<a class=\"sister\" href=\"http://example.com/tillie\" id=\"link2\">Tillie</a>]\n",
            "[<a class=\"sister\" href=\"http://example.com/tillie\" id=\"link2\">Tillie</a>]\n"
          ],
          "name": "stdout"
        }
      ]
    },
    {
      "cell_type": "markdown",
      "metadata": {
        "id": "Kd2XrIXKnGCH",
        "colab_type": "text"
      },
      "source": [
        "**To find tags by CSS class in a given html document.**"
      ]
    },
    {
      "cell_type": "code",
      "metadata": {
        "id": "DncT0Ystm3w1",
        "colab_type": "code",
        "colab": {
          "base_uri": "https://localhost:8080/",
          "height": 89
        },
        "outputId": "d3b6e37b-9efd-43d6-f065-ba528dbc6347"
      },
      "source": [
        "from bs4 import BeautifulSoup\n",
        "soup=BeautifulSoup(html_doc,'lxml')\n",
        "print('\\nTags by CSS class:')\n",
        "print(soup.select(\".sister\"))"
      ],
      "execution_count": 21,
      "outputs": [
        {
          "output_type": "stream",
          "text": [
            "\n",
            "Tags by CSS class:\n",
            "[<a class=\"sister\" href=\"http://example.com/lacie\" id=\"link1\">Lacie</a>, <a class=\"sister\" href=\"http://example.com/tillie\" id=\"link2\">Tillie</a>]\n"
          ],
          "name": "stdout"
        }
      ]
    },
    {
      "cell_type": "markdown",
      "metadata": {
        "id": "5AYqJQZqnye6",
        "colab_type": "text"
      },
      "source": [
        "**To change the tag's contents and replace with the given string.**"
      ]
    },
    {
      "cell_type": "code",
      "metadata": {
        "id": "bDlVohdSnwpc",
        "colab_type": "code",
        "colab": {
          "base_uri": "https://localhost:8080/",
          "height": 121
        },
        "outputId": "9f95baaf-211b-4d7b-fd91-1fe2f9fecde2"
      },
      "source": [
        "from bs4 import BeautifulSoup\n",
        "html='<a href=\"http://example.com/\">HTML<i>example.com</i></a>'\n",
        "soup=BeautifulSoup(html,'lxml')\n",
        "print(\"\\nOriginal Markup:\")\n",
        "tag=soup.a\n",
        "print(tag)\n",
        "print(\"\\nOriginal Markup with new text:\")\n",
        "tag.string=\"CSS\"\n",
        "print(tag)"
      ],
      "execution_count": 23,
      "outputs": [
        {
          "output_type": "stream",
          "text": [
            "\n",
            "Original Markup:\n",
            "<a href=\"http://example.com/\">HTML<i>example.com</i></a>\n",
            "\n",
            "Original Markup with new text:\n",
            "<a href=\"http://example.com/\">CSS</a>\n"
          ],
          "name": "stdout"
        }
      ]
    },
    {
      "cell_type": "markdown",
      "metadata": {
        "id": "PxjdnRvIodlp",
        "colab_type": "text"
      },
      "source": [
        "**To add to a tag's contents in a given html document.**"
      ]
    },
    {
      "cell_type": "code",
      "metadata": {
        "id": "amFo_nNooU3i",
        "colab_type": "code",
        "colab": {
          "base_uri": "https://localhost:8080/",
          "height": 121
        },
        "outputId": "c5277dd4-536c-477e-f574-dcf6576083f5"
      },
      "source": [
        "from bs4 import BeautifulSoup\n",
        "html='<a href=\"http://example.com/\">HTML<i>example.com</i></a>'\n",
        "soup=BeautifulSoup(html,'lxml')\n",
        "print(\"\\nOriginal Markup:\")\n",
        "print(soup.a)\n",
        "soup.a.append(\"CSS\")\n",
        "print(\"\\nAfter append a text in the new link:\")\n",
        "print(soup.a)"
      ],
      "execution_count": 24,
      "outputs": [
        {
          "output_type": "stream",
          "text": [
            "\n",
            "Original Markup:\n",
            "<a href=\"http://example.com/\">HTML<i>example.com</i></a>\n",
            "\n",
            "After append a text in the new link:\n",
            "<a href=\"http://example.com/\">HTML<i>example.com</i>CSS</a>\n"
          ],
          "name": "stdout"
        }
      ]
    },
    {
      "cell_type": "markdown",
      "metadata": {
        "id": "IZh0p6QipVsH",
        "colab_type": "text"
      },
      "source": [
        "**To insert a new text within a url in a specified position.**"
      ]
    },
    {
      "cell_type": "code",
      "metadata": {
        "id": "EP_98myCpUBC",
        "colab_type": "code",
        "colab": {
          "base_uri": "https://localhost:8080/",
          "height": 104
        },
        "outputId": "0703bcd9-77a3-4049-d30c-d599739a32a1"
      },
      "source": [
        "from bs4 import BeautifulSoup\n",
        "html='<a href=\"http://example.com/\">HTML<i>example.com</i></a>'\n",
        "soup=BeautifulSoup(html,'lxml')\n",
        "tag=soup.a\n",
        "print('Original Markup:')\n",
        "print(tag.contents)\n",
        "tag.insert(2, \"CSS\")\n",
        "print(\"\\nNew url after inserting the text:\")\n",
        "print(tag.contents)"
      ],
      "execution_count": 27,
      "outputs": [
        {
          "output_type": "stream",
          "text": [
            "Original Markup:\n",
            "['HTML', <i>example.com</i>]\n",
            "\n",
            "New url after inserting the text:\n",
            "['HTML', <i>example.com</i>, 'CSS']\n"
          ],
          "name": "stdout"
        }
      ]
    },
    {
      "cell_type": "markdown",
      "metadata": {
        "id": "M14UXwl5qii3",
        "colab_type": "text"
      },
      "source": [
        "**To insert tags or strings immediately before specified tags or strings.**"
      ]
    },
    {
      "cell_type": "code",
      "metadata": {
        "id": "uRxu-ekAqLTz",
        "colab_type": "code",
        "colab": {
          "base_uri": "https://localhost:8080/",
          "height": 104
        },
        "outputId": "5d62d9a4-7169-42ae-8d06-efc93f640e05"
      },
      "source": [
        "from bs4 import BeautifulSoup\n",
        "soup = BeautifulSoup(\"<b>w3resource.com</b>\", \"lxml\")\n",
        "print(\"Original Markup:\")\n",
        "print(soup.b)\n",
        "tag=soup.new_tag(\"i\")\n",
        "tag.string=\"Python\"\n",
        "print(\"\\nNew Markup, before inserting the text:\")\n",
        "soup.b.string.insert_before(tag)\n",
        "print(soup.b)"
      ],
      "execution_count": 29,
      "outputs": [
        {
          "output_type": "stream",
          "text": [
            "Original Markup:\n",
            "<b>w3resource.com</b>\n",
            "\n",
            "New Markup, before inserting the text:\n",
            "<b><i>Python</i>w3resource.com</b>\n"
          ],
          "name": "stdout"
        }
      ]
    },
    {
      "cell_type": "markdown",
      "metadata": {
        "id": "9e8fS9zTrY1z",
        "colab_type": "text"
      },
      "source": [
        "**To insert tags or strings immediately after specified tags or strings.**"
      ]
    },
    {
      "cell_type": "code",
      "metadata": {
        "id": "R1BkZ6rvrQ_s",
        "colab_type": "code",
        "colab": {
          "base_uri": "https://localhost:8080/",
          "height": 104
        },
        "outputId": "b00af7e2-fade-47b5-a5f1-46db15ee05b5"
      },
      "source": [
        "from bs4 import BeautifulSoup\n",
        "soup = BeautifulSoup(\"<b>w3resource.com</b>\", \"lxml\")\n",
        "print(\"Original Markup:\")\n",
        "print(soup.b)\n",
        "tag=soup.new_tag(\"i\")\n",
        "tag.string=\"Python\"\n",
        "print(\"\\nNew Markup, before inserting the text:\")\n",
        "soup.b.string.insert_after(tag)\n",
        "print(soup.b)\n"
      ],
      "execution_count": 30,
      "outputs": [
        {
          "output_type": "stream",
          "text": [
            "Original Markup:\n",
            "<b>w3resource.com</b>\n",
            "\n",
            "New Markup, before inserting the text:\n",
            "<b>w3resource.com<i>Python</i></b>\n"
          ],
          "name": "stdout"
        }
      ]
    },
    {
      "cell_type": "markdown",
      "metadata": {
        "id": "FPEwAHd5sV_s",
        "colab_type": "text"
      },
      "source": [
        "**To remove the contents of a tag in a given html document.**"
      ]
    },
    {
      "cell_type": "code",
      "metadata": {
        "id": "Z5RUY4-xr68J",
        "colab_type": "code",
        "colab": {
          "base_uri": "https://localhost:8080/",
          "height": 104
        },
        "outputId": "ad8f61f4-100e-4d9d-c81b-8545ab193cd1"
      },
      "source": [
        "from bs4 import BeautifulSoup\n",
        "html_content = '<a href=\"https://w3resource.com/\">Python exercises<i>w3resource</i></a>'\n",
        "soup = BeautifulSoup(html_content, \"lxml\")\n",
        "print(\"Original Markup:\")\n",
        "print(soup.a)\n",
        "tag = soup.a\n",
        "tag = tag.clear()\n",
        "print(\"\\nAfter clearing the contents in the tag:\")\n",
        "print(soup.a)"
      ],
      "execution_count": 31,
      "outputs": [
        {
          "output_type": "stream",
          "text": [
            "Original Markup:\n",
            "<a href=\"https://w3resource.com/\">Python exercises<i>w3resource</i></a>\n",
            "\n",
            "After clearing the contents in the tag:\n",
            "<a href=\"https://w3resource.com/\"></a>\n"
          ],
          "name": "stdout"
        }
      ]
    },
    {
      "cell_type": "markdown",
      "metadata": {
        "id": "X9DSG2EvsrNe",
        "colab_type": "text"
      },
      "source": [
        "**To extract a tag or string from a given tree of html document.**"
      ]
    },
    {
      "cell_type": "code",
      "metadata": {
        "id": "9MyPHu8Usm_e",
        "colab_type": "code",
        "colab": {
          "base_uri": "https://localhost:8080/",
          "height": 104
        },
        "outputId": "7d6841dc-a42f-49e4-ba1a-8d1fb1738d52"
      },
      "source": [
        "from bs4 import BeautifulSoup\n",
        "html_content = '<a href=\"https://w3resource.com/\">Python exercises<i>w3resource</i></a>'\n",
        "soup = BeautifulSoup(html_content, \"lxml\")\n",
        "print(\"Original Markup:\")\n",
        "print(soup.a)\n",
        "i_tag = soup.i.extract()\n",
        "print(\"\\nExtract i tag from said html Markup:\")\n",
        "print(i_tag)"
      ],
      "execution_count": 32,
      "outputs": [
        {
          "output_type": "stream",
          "text": [
            "Original Markup:\n",
            "<a href=\"https://w3resource.com/\">Python exercises<i>w3resource</i></a>\n",
            "\n",
            "Extract i tag from said html Markup:\n",
            "<i>w3resource</i>\n"
          ],
          "name": "stdout"
        }
      ]
    },
    {
      "cell_type": "markdown",
      "metadata": {
        "id": "9KiFZr2cs5ql",
        "colab_type": "text"
      },
      "source": [
        "**To remove a tag from a given tree of html document and destroy it and its contents.**"
      ]
    },
    {
      "cell_type": "code",
      "metadata": {
        "id": "7ei4LImds4tR",
        "colab_type": "code",
        "colab": {
          "base_uri": "https://localhost:8080/",
          "height": 86
        },
        "outputId": "a57f2a2a-6c9d-4f33-9806-e475e59117d1"
      },
      "source": [
        "from bs4 import BeautifulSoup\n",
        "html_content = '<a href=\"https://w3resource.com/\">Python exercises<i>w3resource</i></a>'\n",
        "soup = BeautifulSoup(html_content, \"lxml\")\n",
        "print(\"Original Markup:\")\n",
        "a_tag = soup.a\n",
        "print(a_tag)\n",
        "new_tag = soup.a.decompose()\n",
        "print(\"After decomposing:\")\n",
        "print(new_tag)"
      ],
      "execution_count": 33,
      "outputs": [
        {
          "output_type": "stream",
          "text": [
            "Original Markup:\n",
            "<a href=\"https://w3resource.com/\">Python exercises<i>w3resource</i></a>\n",
            "After decomposing:\n",
            "None\n"
          ],
          "name": "stdout"
        }
      ]
    },
    {
      "cell_type": "markdown",
      "metadata": {
        "id": "XtmMNK1DtMJK",
        "colab_type": "text"
      },
      "source": [
        "**To remove a tag or string from a given tree of html document and replace it with the given tag or string.**"
      ]
    },
    {
      "cell_type": "code",
      "metadata": {
        "id": "82hcm2BotHy7",
        "colab_type": "code",
        "colab": {
          "base_uri": "https://localhost:8080/",
          "height": 86
        },
        "outputId": "1586504b-40ff-40c0-8e43-35d0ecf55b25"
      },
      "source": [
        "from bs4 import BeautifulSoup\n",
        "html_markup= '<a href=\"https://w3resource.com/\">Python exercises<i>w3resource</i></a>'\n",
        "soup = BeautifulSoup(html_markup, \"lxml\")\n",
        "print(\"Original markup:\")\n",
        "a_tag = soup.a\n",
        "print(a_tag)\n",
        "new_tag = soup.new_tag(\"b\")\n",
        "new_tag.string = \"PHP\"\n",
        "b_tag = a_tag.i.replace_with(new_tag)\n",
        "print(\"New Markup:\")\n",
        "print(a_tag)"
      ],
      "execution_count": 34,
      "outputs": [
        {
          "output_type": "stream",
          "text": [
            "Original markup:\n",
            "<a href=\"https://w3resource.com/\">Python exercises<i>w3resource</i></a>\n",
            "New Markup:\n",
            "<a href=\"https://w3resource.com/\">Python exercises<b>PHP</b></a>\n"
          ],
          "name": "stdout"
        }
      ]
    },
    {
      "cell_type": "markdown",
      "metadata": {
        "id": "wFPCJ4PctaWy",
        "colab_type": "text"
      },
      "source": [
        "**To wrap an element in the specified tag and create the new wrapper**"
      ]
    },
    {
      "cell_type": "code",
      "metadata": {
        "id": "i8NpZo-_tUtn",
        "colab_type": "code",
        "colab": {
          "base_uri": "https://localhost:8080/",
          "height": 104
        },
        "outputId": "0eb1e53e-a8d5-4891-809d-0e6583758f8d"
      },
      "source": [
        "from bs4 import BeautifulSoup\n",
        "soup = BeautifulSoup(\"<p>Python exercises.</p>\", \"lxml\")\n",
        "print(\"Original Markup:\")\n",
        "print(soup.p.string.wrap(soup.new_tag(\"i\")))\n",
        "print(\"\\nNew Markup:\")\n",
        "print(soup.p.wrap(soup.new_tag(\"div\")))"
      ],
      "execution_count": 35,
      "outputs": [
        {
          "output_type": "stream",
          "text": [
            "Original Markup:\n",
            "<i>Python exercises.</i>\n",
            "\n",
            "New Markup:\n",
            "<div><p><i>Python exercises.</i></p></div>\n"
          ],
          "name": "stdout"
        }
      ]
    },
    {
      "cell_type": "markdown",
      "metadata": {
        "id": "edoQixn8tfhM",
        "colab_type": "text"
      },
      "source": [
        "**To replace a given tag with whatever's inside a given tag.**"
      ]
    },
    {
      "cell_type": "code",
      "metadata": {
        "id": "Pe8U4Xhptevs",
        "colab_type": "code",
        "colab": {
          "base_uri": "https://localhost:8080/",
          "height": 104
        },
        "outputId": "d8a53375-7638-42d9-b90a-1502cf72e952"
      },
      "source": [
        "from bs4 import BeautifulSoup\n",
        "markup = '<a href=\"https://w3resource.com/\">Python exercises.<i>w3resource.com</i></a>'\n",
        "soup = BeautifulSoup(markup, \"lxml\")\n",
        "a_tag = soup.a\n",
        "print(\"Original markup:\")\n",
        "print(a_tag)\n",
        "a_tag.i.unwrap()\n",
        "print(\"\\nAfter unwrapping:\")\n",
        "print(a_tag)"
      ],
      "execution_count": 36,
      "outputs": [
        {
          "output_type": "stream",
          "text": [
            "Original markup:\n",
            "<a href=\"https://w3resource.com/\">Python exercises.<i>w3resource.com</i></a>\n",
            "\n",
            "After unwrapping:\n",
            "<a href=\"https://w3resource.com/\">Python exercises.w3resource.com</a>\n"
          ],
          "name": "stdout"
        }
      ]
    },
    {
      "cell_type": "code",
      "metadata": {
        "id": "XoZHuxFttqdN",
        "colab_type": "code",
        "colab": {}
      },
      "source": [
        ""
      ],
      "execution_count": 0,
      "outputs": []
    }
  ]
}